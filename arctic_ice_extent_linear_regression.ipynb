{
  "nbformat": 4,
  "nbformat_minor": 0,
  "metadata": {
    "colab": {
      "provenance": [],
      "mount_file_id": "1FKZBhK7d7tWGVZYFwyNi7groMB8hDxYZ",
      "authorship_tag": "ABX9TyPJA6Veo377uF3vRVJSuPTq",
      "include_colab_link": true
    },
    "kernelspec": {
      "name": "python3",
      "display_name": "Python 3"
    },
    "language_info": {
      "name": "python"
    }
  },
  "cells": [
    {
      "cell_type": "markdown",
      "metadata": {
        "id": "view-in-github",
        "colab_type": "text"
      },
      "source": [
        "<a href=\"https://colab.research.google.com/github/rahul-nauni/mlis1-poject/blob/main/arctic_ice_extent_linear_regression.ipynb\" target=\"_parent\"><img src=\"https://colab.research.google.com/assets/colab-badge.svg\" alt=\"Open In Colab\"/></a>"
      ]
    },
    {
      "cell_type": "code",
      "execution_count": 4,
      "metadata": {
        "id": "EkYTpWH-_lJi"
      },
      "outputs": [],
      "source": [
        "# Author: Rahul Nauni\n",
        "# importing libraries\n",
        "import numpy as np\n",
        "import pandas as pd\n",
        "import glob\n",
        "import os\n",
        "from google.colab import drive\n",
        "import matplotlib.pyplot as plt\n",
        "%matplotlib inline\n",
        "plt.style.use('dark_background')"
      ]
    },
    {
      "cell_type": "code",
      "source": [
        "drive.mount('/content/drive')"
      ],
      "metadata": {
        "id": "BjzL6-BNw45X",
        "outputId": "d81c6946-f7f2-49b8-ea38-4c6817704474",
        "colab": {
          "base_uri": "https://localhost:8080/"
        }
      },
      "execution_count": 5,
      "outputs": [
        {
          "output_type": "stream",
          "name": "stdout",
          "text": [
            "Mounted at /content/drive\n"
          ]
        }
      ]
    },
    {
      "cell_type": "code",
      "source": [
        "# defining column names and data types to use\n",
        "columns_list = ['year', ' extent', ' mo']\n",
        "columns_dtype_list = {'year': 'int64', 'extent': 'float64', 'mo': 'int64'}"
      ],
      "metadata": {
        "id": "BgRXF9qT2xGV"
      },
      "execution_count": 6,
      "outputs": []
    },
    {
      "cell_type": "code",
      "source": [
        "# Load csv file\n",
        "path = '/content/drive/MyDrive/ML'\n",
        "files = glob.glob(os.path.join(path, 'N*extent*.csv'))\n",
        "df = pd.concat((pd.read_csv(f, na_values = -9999.00, usecols=columns_list, dtype=columns_dtype_list, index_col=None) for f in files),axis=0)"
      ],
      "metadata": {
        "id": "S7up1qvoP--2"
      },
      "execution_count": 7,
      "outputs": []
    },
    {
      "cell_type": "code",
      "source": [
        "# remove special character from column names\n",
        "df.columns = df.columns.str.replace(' ', '')"
      ],
      "metadata": {
        "id": "F2HTRBZH4V32"
      },
      "execution_count": 8,
      "outputs": []
    },
    {
      "cell_type": "code",
      "source": [
        "# imputing missing values with mean value\n",
        "def impute_missing(df):\n",
        "  for col in df.select_dtypes(include=['int64', 'float64']).columns:\n",
        "    df.loc[:, col] = df.loc[:,col].fillna(round(np.mean(df.loc[:, col]),2))"
      ],
      "metadata": {
        "id": "3axyiIwaC6QX"
      },
      "execution_count": 9,
      "outputs": []
    },
    {
      "cell_type": "code",
      "source": [
        "impute_missing(df)"
      ],
      "metadata": {
        "id": "M3ArF44OOktA"
      },
      "execution_count": 10,
      "outputs": []
    },
    {
      "cell_type": "code",
      "source": [
        "# check for null values\n",
        "df.isna().sum()"
      ],
      "metadata": {
        "colab": {
          "base_uri": "https://localhost:8080/"
        },
        "id": "0ZP3fVPuyOGU",
        "outputId": "b48722fe-efd3-48e7-a013-7a4c2cb5ef6d"
      },
      "execution_count": 11,
      "outputs": [
        {
          "output_type": "execute_result",
          "data": {
            "text/plain": [
              "year      0\n",
              "mo        0\n",
              "extent    0\n",
              "dtype: int64"
            ]
          },
          "metadata": {},
          "execution_count": 11
        }
      ]
    },
    {
      "cell_type": "code",
      "source": [
        "# we will implement linear regression model by using year 1978-2022 as our input feature\n",
        "# Year avg. Arctic ice extent will be our target variable\n",
        "seaice_df = df.groupby(['year']).agg({'extent': 'mean'}).reset_index()"
      ],
      "metadata": {
        "id": "o_7GpKjN-spG"
      },
      "execution_count": 12,
      "outputs": []
    },
    {
      "cell_type": "code",
      "source": [
        "seaice_df.head()"
      ],
      "metadata": {
        "colab": {
          "base_uri": "https://localhost:8080/",
          "height": 204
        },
        "id": "4Dui9GFHh8tM",
        "outputId": "eb494ea4-3afc-4db5-f6ac-5c1be2762cde"
      },
      "execution_count": 13,
      "outputs": [
        {
          "output_type": "execute_result",
          "data": {
            "text/plain": [
              "   year     extent\n",
              "0  1978  12.660000\n",
              "1  1979  12.350000\n",
              "2  1980  12.348333\n",
              "3  1981  12.146667\n",
              "4  1982  12.467500"
            ],
            "text/html": [
              "\n",
              "  <div id=\"df-05c7d70b-c010-410e-af3f-e37456c0af2a\">\n",
              "    <div class=\"colab-df-container\">\n",
              "      <div>\n",
              "<style scoped>\n",
              "    .dataframe tbody tr th:only-of-type {\n",
              "        vertical-align: middle;\n",
              "    }\n",
              "\n",
              "    .dataframe tbody tr th {\n",
              "        vertical-align: top;\n",
              "    }\n",
              "\n",
              "    .dataframe thead th {\n",
              "        text-align: right;\n",
              "    }\n",
              "</style>\n",
              "<table border=\"1\" class=\"dataframe\">\n",
              "  <thead>\n",
              "    <tr style=\"text-align: right;\">\n",
              "      <th></th>\n",
              "      <th>year</th>\n",
              "      <th>extent</th>\n",
              "    </tr>\n",
              "  </thead>\n",
              "  <tbody>\n",
              "    <tr>\n",
              "      <th>0</th>\n",
              "      <td>1978</td>\n",
              "      <td>12.660000</td>\n",
              "    </tr>\n",
              "    <tr>\n",
              "      <th>1</th>\n",
              "      <td>1979</td>\n",
              "      <td>12.350000</td>\n",
              "    </tr>\n",
              "    <tr>\n",
              "      <th>2</th>\n",
              "      <td>1980</td>\n",
              "      <td>12.348333</td>\n",
              "    </tr>\n",
              "    <tr>\n",
              "      <th>3</th>\n",
              "      <td>1981</td>\n",
              "      <td>12.146667</td>\n",
              "    </tr>\n",
              "    <tr>\n",
              "      <th>4</th>\n",
              "      <td>1982</td>\n",
              "      <td>12.467500</td>\n",
              "    </tr>\n",
              "  </tbody>\n",
              "</table>\n",
              "</div>\n",
              "      <button class=\"colab-df-convert\" onclick=\"convertToInteractive('df-05c7d70b-c010-410e-af3f-e37456c0af2a')\"\n",
              "              title=\"Convert this dataframe to an interactive table.\"\n",
              "              style=\"display:none;\">\n",
              "        \n",
              "  <svg xmlns=\"http://www.w3.org/2000/svg\" height=\"24px\"viewBox=\"0 0 24 24\"\n",
              "       width=\"24px\">\n",
              "    <path d=\"M0 0h24v24H0V0z\" fill=\"none\"/>\n",
              "    <path d=\"M18.56 5.44l.94 2.06.94-2.06 2.06-.94-2.06-.94-.94-2.06-.94 2.06-2.06.94zm-11 1L8.5 8.5l.94-2.06 2.06-.94-2.06-.94L8.5 2.5l-.94 2.06-2.06.94zm10 10l.94 2.06.94-2.06 2.06-.94-2.06-.94-.94-2.06-.94 2.06-2.06.94z\"/><path d=\"M17.41 7.96l-1.37-1.37c-.4-.4-.92-.59-1.43-.59-.52 0-1.04.2-1.43.59L10.3 9.45l-7.72 7.72c-.78.78-.78 2.05 0 2.83L4 21.41c.39.39.9.59 1.41.59.51 0 1.02-.2 1.41-.59l7.78-7.78 2.81-2.81c.8-.78.8-2.07 0-2.86zM5.41 20L4 18.59l7.72-7.72 1.47 1.35L5.41 20z\"/>\n",
              "  </svg>\n",
              "      </button>\n",
              "      \n",
              "  <style>\n",
              "    .colab-df-container {\n",
              "      display:flex;\n",
              "      flex-wrap:wrap;\n",
              "      gap: 12px;\n",
              "    }\n",
              "\n",
              "    .colab-df-convert {\n",
              "      background-color: #E8F0FE;\n",
              "      border: none;\n",
              "      border-radius: 50%;\n",
              "      cursor: pointer;\n",
              "      display: none;\n",
              "      fill: #1967D2;\n",
              "      height: 32px;\n",
              "      padding: 0 0 0 0;\n",
              "      width: 32px;\n",
              "    }\n",
              "\n",
              "    .colab-df-convert:hover {\n",
              "      background-color: #E2EBFA;\n",
              "      box-shadow: 0px 1px 2px rgba(60, 64, 67, 0.3), 0px 1px 3px 1px rgba(60, 64, 67, 0.15);\n",
              "      fill: #174EA6;\n",
              "    }\n",
              "\n",
              "    [theme=dark] .colab-df-convert {\n",
              "      background-color: #3B4455;\n",
              "      fill: #D2E3FC;\n",
              "    }\n",
              "\n",
              "    [theme=dark] .colab-df-convert:hover {\n",
              "      background-color: #434B5C;\n",
              "      box-shadow: 0px 1px 3px 1px rgba(0, 0, 0, 0.15);\n",
              "      filter: drop-shadow(0px 1px 2px rgba(0, 0, 0, 0.3));\n",
              "      fill: #FFFFFF;\n",
              "    }\n",
              "  </style>\n",
              "\n",
              "      <script>\n",
              "        const buttonEl =\n",
              "          document.querySelector('#df-05c7d70b-c010-410e-af3f-e37456c0af2a button.colab-df-convert');\n",
              "        buttonEl.style.display =\n",
              "          google.colab.kernel.accessAllowed ? 'block' : 'none';\n",
              "\n",
              "        async function convertToInteractive(key) {\n",
              "          const element = document.querySelector('#df-05c7d70b-c010-410e-af3f-e37456c0af2a');\n",
              "          const dataTable =\n",
              "            await google.colab.kernel.invokeFunction('convertToInteractive',\n",
              "                                                     [key], {});\n",
              "          if (!dataTable) return;\n",
              "\n",
              "          const docLinkHtml = 'Like what you see? Visit the ' +\n",
              "            '<a target=\"_blank\" href=https://colab.research.google.com/notebooks/data_table.ipynb>data table notebook</a>'\n",
              "            + ' to learn more about interactive tables.';\n",
              "          element.innerHTML = '';\n",
              "          dataTable['output_type'] = 'display_data';\n",
              "          await google.colab.output.renderOutput(dataTable, element);\n",
              "          const docLink = document.createElement('div');\n",
              "          docLink.innerHTML = docLinkHtml;\n",
              "          element.appendChild(docLink);\n",
              "        }\n",
              "      </script>\n",
              "    </div>\n",
              "  </div>\n",
              "  "
            ]
          },
          "metadata": {},
          "execution_count": 13
        }
      ]
    },
    {
      "cell_type": "code",
      "source": [
        "# treat 'year' as independent/predictor variable and 'extent' as target variable\n",
        "X = np.asarray(seaice_df.loc[:,'year'])\n",
        "y = np.asarray(seaice_df.loc[:,'extent'])"
      ],
      "metadata": {
        "id": "yioFyEosL0Yj"
      },
      "execution_count": 14,
      "outputs": []
    },
    {
      "cell_type": "code",
      "source": [
        "def plot_data(xvals, yvals):\n",
        "  plt.scatter(x=xvals, y=yvals, label='Data points')\n",
        "  plt.xlabel('Year', fontsize=11) \n",
        "  plt.ylabel('Extent', fontsize=11)\n",
        "  plt.title('Arctic Ice Extent dataset', fontsize=15)\n",
        "  plt.legend(fontsize='11', loc='best', fancybox=True, shadow=True)\n",
        "  plt.show()"
      ],
      "metadata": {
        "id": "hXqqeYW5T9Gv"
      },
      "execution_count": 15,
      "outputs": []
    },
    {
      "cell_type": "code",
      "source": [
        "plot_data(X, y)"
      ],
      "metadata": {
        "colab": {
          "base_uri": "https://localhost:8080/",
          "height": 297
        },
        "id": "Q975ZcrtD0DK",
        "outputId": "86f60ca7-a4c2-4408-fe8a-8bc233417db2"
      },
      "execution_count": 16,
      "outputs": [
        {
          "output_type": "display_data",
          "data": {
            "text/plain": [
              "<Figure size 432x288 with 1 Axes>"
            ],
            "image/png": "[encoded data removed]"
          },
          "metadata": {}
        }
      ]
    },
    {
      "cell_type": "markdown",
      "source": [
        "## Least squares implemented using normal equations"
      ],
      "metadata": {
        "id": "1FM4sdIGNEbH"
      }
    },
    {
      "cell_type": "code",
      "source": [
        "X"
      ],
      "metadata": {
        "colab": {
          "base_uri": "https://localhost:8080/"
        },
        "id": "z0j8xRiUnOcN",
        "outputId": "abd515a2-3bda-48b0-bbdc-bfeb743f6d2b"
      },
      "execution_count": 17,
      "outputs": [
        {
          "output_type": "execute_result",
          "data": {
            "text/plain": [
              "array([1978, 1979, 1980, 1981, 1982, 1983, 1984, 1985, 1986, 1987, 1988,\n",
              "       1989, 1990, 1991, 1992, 1993, 1994, 1995, 1996, 1997, 1998, 1999,\n",
              "       2000, 2001, 2002, 2003, 2004, 2005, 2006, 2007, 2008, 2009, 2010,\n",
              "       2011, 2012, 2013, 2014, 2015, 2016, 2017, 2018, 2019, 2020, 2021,\n",
              "       2022])"
            ]
          },
          "metadata": {},
          "execution_count": 17
        }
      ]
    },
    {
      "cell_type": "code",
      "source": [
        "X.shape"
      ],
      "metadata": {
        "colab": {
          "base_uri": "https://localhost:8080/"
        },
        "id": "QWexnbcZ0Hlm",
        "outputId": "8437ed76-743c-42d8-e7e8-4ecaf450c971"
      },
      "execution_count": 18,
      "outputs": [
        {
          "output_type": "execute_result",
          "data": {
            "text/plain": [
              "(45,)"
            ]
          },
          "metadata": {},
          "execution_count": 18
        }
      ]
    },
    {
      "cell_type": "code",
      "source": [
        "# reshaping X \n",
        "X = np.reshape(np.ravel(X), (X.size,1))"
      ],
      "metadata": {
        "id": "EQuUTTzqy3-K"
      },
      "execution_count": 19,
      "outputs": []
    },
    {
      "cell_type": "code",
      "source": [
        "X.shape"
      ],
      "metadata": {
        "colab": {
          "base_uri": "https://localhost:8080/"
        },
        "id": "gYoJ_DcN1M4-",
        "outputId": "17e4d897-63b4-466d-857a-6a14d1a21572"
      },
      "execution_count": 20,
      "outputs": [
        {
          "output_type": "execute_result",
          "data": {
            "text/plain": [
              "(45, 1)"
            ]
          },
          "metadata": {},
          "execution_count": 20
        }
      ]
    },
    {
      "cell_type": "code",
      "source": [
        "# appending 1's in first column which serves as bias or input to 'y intercept' in our regression model\n",
        "# X_des_mat is our design matrix\n",
        "X_des_mat = np.concatenate([np.ones_like(X, dtype='int64'), X])"
      ],
      "metadata": {
        "id": "iuylCXLJrl0J"
      },
      "execution_count": 21,
      "outputs": []
    },
    {
      "cell_type": "code",
      "source": [
        "X_des_mat = np.reshape(X_des_mat, (2,-1)).T"
      ],
      "metadata": {
        "id": "7kMSU2uO2P7K"
      },
      "execution_count": 22,
      "outputs": []
    },
    {
      "cell_type": "code",
      "source": [
        "# print design matrix\n",
        "X_des_mat"
      ],
      "metadata": {
        "colab": {
          "base_uri": "https://localhost:8080/"
        },
        "id": "bg4d6Vj02dFE",
        "outputId": "0694d3da-d923-4c2b-9c4f-03e4cf22a8e7"
      },
      "execution_count": 23,
      "outputs": [
        {
          "output_type": "execute_result",
          "data": {
            "text/plain": [
              "array([[   1, 1978],\n",
              "       [   1, 1979],\n",
              "       [   1, 1980],\n",
              "       [   1, 1981],\n",
              "       [   1, 1982],\n",
              "       [   1, 1983],\n",
              "       [   1, 1984],\n",
              "       [   1, 1985],\n",
              "       [   1, 1986],\n",
              "       [   1, 1987],\n",
              "       [   1, 1988],\n",
              "       [   1, 1989],\n",
              "       [   1, 1990],\n",
              "       [   1, 1991],\n",
              "       [   1, 1992],\n",
              "       [   1, 1993],\n",
              "       [   1, 1994],\n",
              "       [   1, 1995],\n",
              "       [   1, 1996],\n",
              "       [   1, 1997],\n",
              "       [   1, 1998],\n",
              "       [   1, 1999],\n",
              "       [   1, 2000],\n",
              "       [   1, 2001],\n",
              "       [   1, 2002],\n",
              "       [   1, 2003],\n",
              "       [   1, 2004],\n",
              "       [   1, 2005],\n",
              "       [   1, 2006],\n",
              "       [   1, 2007],\n",
              "       [   1, 2008],\n",
              "       [   1, 2009],\n",
              "       [   1, 2010],\n",
              "       [   1, 2011],\n",
              "       [   1, 2012],\n",
              "       [   1, 2013],\n",
              "       [   1, 2014],\n",
              "       [   1, 2015],\n",
              "       [   1, 2016],\n",
              "       [   1, 2017],\n",
              "       [   1, 2018],\n",
              "       [   1, 2019],\n",
              "       [   1, 2020],\n",
              "       [   1, 2021],\n",
              "       [   1, 2022]])"
            ]
          },
          "metadata": {},
          "execution_count": 23
        }
      ]
    },
    {
      "cell_type": "markdown",
      "source": [
        "We'll calculate weights for our model using following formula:\n",
        "\n",
        "$ w = ( X^T X )^{-1} X^T y $ \n",
        "\n",
        "**note:** this method requires X to have full column rank i.e., columns of matrix X must be linearly independent"
      ],
      "metadata": {
        "id": "lPQ13aRt8AjX"
      }
    },
    {
      "cell_type": "code",
      "source": [
        "nrows, ncols = X_des_mat.shape"
      ],
      "metadata": {
        "id": "lKYgpRf44LHe"
      },
      "execution_count": 24,
      "outputs": []
    },
    {
      "cell_type": "code",
      "source": [
        "X_des_mat_rank = np.linalg.matrix_rank(X_des_mat)"
      ],
      "metadata": {
        "id": "tW6kr74c6_b0"
      },
      "execution_count": 25,
      "outputs": []
    },
    {
      "cell_type": "code",
      "source": [
        "# check if design matrix has full column rank\n",
        "if nrows >= ncols == X_des_mat_rank:\n",
        "  weights = np.matmul(np.matmul(np.linalg.inv(np.matmul(X_des_mat.transpose(),X_des_mat)),X_des_mat.transpose()),y)\n",
        "  weights = np.reshape(weights, (-1,1))"
      ],
      "metadata": {
        "id": "_tNTiJIUBveT"
      },
      "execution_count": 26,
      "outputs": []
    },
    {
      "cell_type": "code",
      "source": [
        "print(weights)"
      ],
      "metadata": {
        "colab": {
          "base_uri": "https://localhost:8080/"
        },
        "id": "qJQwlBVmDgJE",
        "outputId": "243dae24-23b6-48e4-b29c-e9fa4ab27a03"
      },
      "execution_count": 27,
      "outputs": [
        {
          "output_type": "stream",
          "name": "stdout",
          "text": [
            "[[ 1.17496858e+02]\n",
            " [-5.30554458e-02]]\n"
          ]
        }
      ]
    },
    {
      "cell_type": "code",
      "source": [
        "predictions = np.matmul(X_des_mat, weights)"
      ],
      "metadata": {
        "id": "gl0v7do-EvDT"
      },
      "execution_count": 28,
      "outputs": []
    },
    {
      "cell_type": "code",
      "source": [
        "# fit regression line through data\n",
        "def plot_model(X, y, predictions):\n",
        "  plt.figure(figsize=(5,5))\n",
        "  plt.scatter(X, y, label='data points')\n",
        "  plt.xlabel('Year', fontsize=10)\n",
        "  plt.ylabel('Extent', fontsize=10)\n",
        "  plt.title('Fitted Model', fontsize=15)\n",
        "  plt.plot(X, predictions, '-', color='red', label='Regression line')\n",
        "  plt.legend(fontsize='11', loc='best', fancybox=True, shadow=True)\n",
        "  plt.show()"
      ],
      "metadata": {
        "id": "amWVJn5TEh-Z"
      },
      "execution_count": 29,
      "outputs": []
    },
    {
      "cell_type": "code",
      "source": [
        "plot_model(X, y, predictions)"
      ],
      "metadata": {
        "colab": {
          "base_uri": "https://localhost:8080/",
          "height": 352
        },
        "id": "F3u3GM5PtqM-",
        "outputId": "b38eecec-3062-49b1-cf2b-2ccce0eaba7c"
      },
      "execution_count": 30,
      "outputs": [
        {
          "output_type": "display_data",
          "data": {
            "text/plain": [
              "<Figure size 360x360 with 1 Axes>"
            ],
            "image/png": "[encoded data removed]"
          },
          "metadata": {}
        }
      ]
    },
    {
      "cell_type": "markdown",
      "source": [
        "Making predictions"
      ],
      "metadata": {
        "id": "Ph6JDVon66G2"
      }
    },
    {
      "cell_type": "code",
      "source": [
        "X_new = np.array([1980,1981,1982,1983,1984,1985])"
      ],
      "metadata": {
        "id": "beeVGaL775O9"
      },
      "execution_count": 31,
      "outputs": []
    },
    {
      "cell_type": "code",
      "source": [
        "X_new.shape"
      ],
      "metadata": {
        "colab": {
          "base_uri": "https://localhost:8080/"
        },
        "id": "bZ5Q1UVX8Y6n",
        "outputId": "de280138-a8c3-4d51-9d40-8d573239ec3f"
      },
      "execution_count": 32,
      "outputs": [
        {
          "output_type": "execute_result",
          "data": {
            "text/plain": [
              "(6,)"
            ]
          },
          "metadata": {},
          "execution_count": 32
        }
      ]
    },
    {
      "cell_type": "code",
      "source": [
        "X_new = np.reshape(X_new, (-1,1))"
      ],
      "metadata": {
        "id": "BJrvfKeO-Wwu"
      },
      "execution_count": 33,
      "outputs": []
    },
    {
      "cell_type": "code",
      "source": [
        "X_new"
      ],
      "metadata": {
        "colab": {
          "base_uri": "https://localhost:8080/"
        },
        "id": "frG1rRoc_YZn",
        "outputId": "2e99b260-c216-4b2d-af53-2cf33dc1476f"
      },
      "execution_count": 34,
      "outputs": [
        {
          "output_type": "execute_result",
          "data": {
            "text/plain": [
              "array([[1980],\n",
              "       [1981],\n",
              "       [1982],\n",
              "       [1983],\n",
              "       [1984],\n",
              "       [1985]])"
            ]
          },
          "metadata": {},
          "execution_count": 34
        }
      ]
    },
    {
      "cell_type": "code",
      "source": [
        "X_new_des_mat = np.concatenate([np.ones_like(X_new, dtype='int64'), X_new])"
      ],
      "metadata": {
        "id": "pglR9XqS81mx"
      },
      "execution_count": 35,
      "outputs": []
    },
    {
      "cell_type": "code",
      "source": [
        "X_new_des_mat"
      ],
      "metadata": {
        "colab": {
          "base_uri": "https://localhost:8080/"
        },
        "id": "mPTODkOq_EyR",
        "outputId": "29eeba46-b238-4345-b420-e5abf509bc6c"
      },
      "execution_count": 36,
      "outputs": [
        {
          "output_type": "execute_result",
          "data": {
            "text/plain": [
              "array([[   1],\n",
              "       [   1],\n",
              "       [   1],\n",
              "       [   1],\n",
              "       [   1],\n",
              "       [   1],\n",
              "       [1980],\n",
              "       [1981],\n",
              "       [1982],\n",
              "       [1983],\n",
              "       [1984],\n",
              "       [1985]])"
            ]
          },
          "metadata": {},
          "execution_count": 36
        }
      ]
    },
    {
      "cell_type": "code",
      "source": [
        "X_new_des_mat = np.reshape(X_new_des_mat, (2,-1)).transpose()"
      ],
      "metadata": {
        "id": "AxEhFrVi_v06"
      },
      "execution_count": 37,
      "outputs": []
    },
    {
      "cell_type": "code",
      "source": [
        "X_new_des_mat"
      ],
      "metadata": {
        "colab": {
          "base_uri": "https://localhost:8080/"
        },
        "id": "QwvaoayhBHBL",
        "outputId": "28d7b0d3-1eeb-4a19-ef3f-8a4cb5791dcc"
      },
      "execution_count": 38,
      "outputs": [
        {
          "output_type": "execute_result",
          "data": {
            "text/plain": [
              "array([[   1, 1980],\n",
              "       [   1, 1981],\n",
              "       [   1, 1982],\n",
              "       [   1, 1983],\n",
              "       [   1, 1984],\n",
              "       [   1, 1985]])"
            ]
          },
          "metadata": {},
          "execution_count": 38
        }
      ]
    },
    {
      "cell_type": "code",
      "source": [
        "predictions = np.matmul(X_new_des_mat, weights)"
      ],
      "metadata": {
        "id": "-pitRpgb7Ql1"
      },
      "execution_count": 39,
      "outputs": []
    },
    {
      "cell_type": "code",
      "source": [
        "pd.DataFrame(data=predictions, columns=['extent predictions'])"
      ],
      "metadata": {
        "colab": {
          "base_uri": "https://localhost:8080/",
          "height": 235
        },
        "id": "4SLFscaIAQA7",
        "outputId": "2973311c-ce59-46f4-ae63-24199afba48b"
      },
      "execution_count": 40,
      "outputs": [
        {
          "output_type": "execute_result",
          "data": {
            "text/plain": [
              "   extent predictions\n",
              "0           12.447075\n",
              "1           12.394020\n",
              "2           12.340964\n",
              "3           12.287909\n",
              "4           12.234853\n",
              "5           12.181798"
            ],
            "text/html": [
              "\n",
              "  <div id=\"df-fc24f86a-e1ab-40a3-8495-43c8951436f5\">\n",
              "    <div class=\"colab-df-container\">\n",
              "      <div>\n",
              "<style scoped>\n",
              "    .dataframe tbody tr th:only-of-type {\n",
              "        vertical-align: middle;\n",
              "    }\n",
              "\n",
              "    .dataframe tbody tr th {\n",
              "        vertical-align: top;\n",
              "    }\n",
              "\n",
              "    .dataframe thead th {\n",
              "        text-align: right;\n",
              "    }\n",
              "</style>\n",
              "<table border=\"1\" class=\"dataframe\">\n",
              "  <thead>\n",
              "    <tr style=\"text-align: right;\">\n",
              "      <th></th>\n",
              "      <th>extent predictions</th>\n",
              "    </tr>\n",
              "  </thead>\n",
              "  <tbody>\n",
              "    <tr>\n",
              "      <th>0</th>\n",
              "      <td>12.447075</td>\n",
              "    </tr>\n",
              "    <tr>\n",
              "      <th>1</th>\n",
              "      <td>12.394020</td>\n",
              "    </tr>\n",
              "    <tr>\n",
              "      <th>2</th>\n",
              "      <td>12.340964</td>\n",
              "    </tr>\n",
              "    <tr>\n",
              "      <th>3</th>\n",
              "      <td>12.287909</td>\n",
              "    </tr>\n",
              "    <tr>\n",
              "      <th>4</th>\n",
              "      <td>12.234853</td>\n",
              "    </tr>\n",
              "    <tr>\n",
              "      <th>5</th>\n",
              "      <td>12.181798</td>\n",
              "    </tr>\n",
              "  </tbody>\n",
              "</table>\n",
              "</div>\n",
              "      <button class=\"colab-df-convert\" onclick=\"convertToInteractive('df-fc24f86a-e1ab-40a3-8495-43c8951436f5')\"\n",
              "              title=\"Convert this dataframe to an interactive table.\"\n",
              "              style=\"display:none;\">\n",
              "        \n",
              "  <svg xmlns=\"http://www.w3.org/2000/svg\" height=\"24px\"viewBox=\"0 0 24 24\"\n",
              "       width=\"24px\">\n",
              "    <path d=\"M0 0h24v24H0V0z\" fill=\"none\"/>\n",
              "    <path d=\"M18.56 5.44l.94 2.06.94-2.06 2.06-.94-2.06-.94-.94-2.06-.94 2.06-2.06.94zm-11 1L8.5 8.5l.94-2.06 2.06-.94-2.06-.94L8.5 2.5l-.94 2.06-2.06.94zm10 10l.94 2.06.94-2.06 2.06-.94-2.06-.94-.94-2.06-.94 2.06-2.06.94z\"/><path d=\"M17.41 7.96l-1.37-1.37c-.4-.4-.92-.59-1.43-.59-.52 0-1.04.2-1.43.59L10.3 9.45l-7.72 7.72c-.78.78-.78 2.05 0 2.83L4 21.41c.39.39.9.59 1.41.59.51 0 1.02-.2 1.41-.59l7.78-7.78 2.81-2.81c.8-.78.8-2.07 0-2.86zM5.41 20L4 18.59l7.72-7.72 1.47 1.35L5.41 20z\"/>\n",
              "  </svg>\n",
              "      </button>\n",
              "      \n",
              "  <style>\n",
              "    .colab-df-container {\n",
              "      display:flex;\n",
              "      flex-wrap:wrap;\n",
              "      gap: 12px;\n",
              "    }\n",
              "\n",
              "    .colab-df-convert {\n",
              "      background-color: #E8F0FE;\n",
              "      border: none;\n",
              "      border-radius: 50%;\n",
              "      cursor: pointer;\n",
              "      display: none;\n",
              "      fill: #1967D2;\n",
              "      height: 32px;\n",
              "      padding: 0 0 0 0;\n",
              "      width: 32px;\n",
              "    }\n",
              "\n",
              "    .colab-df-convert:hover {\n",
              "      background-color: #E2EBFA;\n",
              "      box-shadow: 0px 1px 2px rgba(60, 64, 67, 0.3), 0px 1px 3px 1px rgba(60, 64, 67, 0.15);\n",
              "      fill: #174EA6;\n",
              "    }\n",
              "\n",
              "    [theme=dark] .colab-df-convert {\n",
              "      background-color: #3B4455;\n",
              "      fill: #D2E3FC;\n",
              "    }\n",
              "\n",
              "    [theme=dark] .colab-df-convert:hover {\n",
              "      background-color: #434B5C;\n",
              "      box-shadow: 0px 1px 3px 1px rgba(0, 0, 0, 0.15);\n",
              "      filter: drop-shadow(0px 1px 2px rgba(0, 0, 0, 0.3));\n",
              "      fill: #FFFFFF;\n",
              "    }\n",
              "  </style>\n",
              "\n",
              "      <script>\n",
              "        const buttonEl =\n",
              "          document.querySelector('#df-fc24f86a-e1ab-40a3-8495-43c8951436f5 button.colab-df-convert');\n",
              "        buttonEl.style.display =\n",
              "          google.colab.kernel.accessAllowed ? 'block' : 'none';\n",
              "\n",
              "        async function convertToInteractive(key) {\n",
              "          const element = document.querySelector('#df-fc24f86a-e1ab-40a3-8495-43c8951436f5');\n",
              "          const dataTable =\n",
              "            await google.colab.kernel.invokeFunction('convertToInteractive',\n",
              "                                                     [key], {});\n",
              "          if (!dataTable) return;\n",
              "\n",
              "          const docLinkHtml = 'Like what you see? Visit the ' +\n",
              "            '<a target=\"_blank\" href=https://colab.research.google.com/notebooks/data_table.ipynb>data table notebook</a>'\n",
              "            + ' to learn more about interactive tables.';\n",
              "          element.innerHTML = '';\n",
              "          dataTable['output_type'] = 'display_data';\n",
              "          await google.colab.output.renderOutput(dataTable, element);\n",
              "          const docLink = document.createElement('div');\n",
              "          docLink.innerHTML = docLinkHtml;\n",
              "          element.appendChild(docLink);\n",
              "        }\n",
              "      </script>\n",
              "    </div>\n",
              "  </div>\n",
              "  "
            ]
          },
          "metadata": {},
          "execution_count": 40
        }
      ]
    },
    {
      "cell_type": "markdown",
      "source": [
        "## Gradient Descent Implementation"
      ],
      "metadata": {
        "id": "sOkNADQtM34b"
      }
    },
    {
      "cell_type": "markdown",
      "source": [
        "### Model\n",
        "\n",
        "$ \\hat{y} =  \\theta_0 + \\theta_1x  $\n",
        "\n",
        "\n",
        "### Loss Function\n",
        "\n",
        "**MSE Loss**\n",
        "\n",
        "$ L(y, \\hat{y}) = 1/N \\sum_{i=1}^{N} (y_i - \\hat{y}_i)^2 $\n",
        "\n",
        "$ L(y,x,\\theta) = 1/N \\sum_{i=1}^{N} (y_i - (\\theta_0 + \\theta_1x_i))^2 $\n",
        "\n",
        "**L2 Loss**\n",
        "\n",
        "\n",
        "$ L(\\theta) = 1/2N \\sum_{i=1}^{N} (y_i  - \\hat{y}_i)^2 + λ/2N \\sum_{j=1}^{P}{\\theta_j}^2 $\n"
      ],
      "metadata": {
        "id": "KIA0ljL36A8l"
      }
    },
    {
      "cell_type": "code",
      "source": [
        "# method to compute mse loss\n",
        "def compute_loss(X, y, weights):\n",
        "  n = np.shape(X)[0]\n",
        "  error = y - predict(X, weights)\n",
        "\n",
        "  weights = weights.reshape(-1,1)\n",
        "  loss = np.sum(error ** 2) / n\n",
        "  return loss"
      ],
      "metadata": {
        "id": "KfOD54Vu5fmk"
      },
      "execution_count": 41,
      "outputs": []
    },
    {
      "cell_type": "code",
      "source": [
        "def compute_l2_loss(X, y, weights, lambda_value):\n",
        "  # regularisation term\n",
        "  n = int(np.shape(X)[0])\n",
        "  reg_term =  (lambda_value / 2 * n) * np.sum(np.matmul(weights, weights.T))\n",
        "  \n",
        "  error = y - predict(X, weights)\n",
        "\n",
        "  #weights = weights.reshape(-1,1)\n",
        "  loss = np.sum(error ** 2) / (2 * n) + reg_term\n",
        "  return loss"
      ],
      "metadata": {
        "id": "V2p3LbwZD7GD"
      },
      "execution_count": 42,
      "outputs": []
    },
    {
      "cell_type": "markdown",
      "source": [
        "### Derivative computation\n",
        "\n",
        "Calculation of partial derivatives for every parameter:\n",
        "\n",
        "$ ∂L / ∂\\theta_0 =  -2/N \\sum_{i=1}^{N} (y_i - (\\theta_0 + \\theta_1x_i)) $\n",
        "\n",
        "$ ∂L / ∂\\theta_1 =  -2/N \\sum_{i=1}^{N} x_i(y_i - (\\theta_0 + \\theta_1x_i)) $\n",
        "\n",
        "**Derivative of L2 loss**\n",
        "\n",
        "\n",
        "$ ∂L(\\theta) / ∂θ_0 = -1/N \\sum_{i=1}^{N} (y_i - (\\theta_0 + \\theta_1x_i)) + λ/N \\sum_{j=1}^{P} \\theta_j $"
      ],
      "metadata": {
        "id": "n6Vl4CN6qreG"
      }
    },
    {
      "cell_type": "code",
      "source": [
        "# method to compute gradients of subsets of all observations/batches\n",
        "def compute_gradient(X, error, weights, lambda_value):\n",
        "  n = len(X)\n",
        "  #gradient = (-2 / n) * np.sum(np.matmul(X.T, error))\n",
        "  gradient = (-1 / n) * (np.sum(np.matmul(X.T,error)) + (lambda_value * weights))\n",
        "  #gradient = gradient.reshape(len(np.array(gradient)), -1)\n",
        "  return gradient"
      ],
      "metadata": {
        "id": "yTUxAOJCthvw"
      },
      "execution_count": 43,
      "outputs": []
    },
    {
      "cell_type": "code",
      "source": [
        "# to find optimum weights, we need an update method\n",
        "def update_weights(weights, step_size):\n",
        "    weights = weights - step_size\n",
        "    return weights"
      ],
      "metadata": {
        "id": "xyRr89QTnaNE"
      },
      "execution_count": 44,
      "outputs": []
    },
    {
      "cell_type": "code",
      "source": [
        "# method for making predictions\n",
        "def predict(X, weights):\n",
        "    return np.matmul(X, weights)"
      ],
      "metadata": {
        "id": "u0LwtFpqlQOF"
      },
      "execution_count": 45,
      "outputs": []
    },
    {
      "cell_type": "code",
      "source": [
        "# method to split data into training and testing set\n",
        "def train_test_split(X,y,split):\n",
        "  X_rand = np.random.rand(X.shape[0]) \n",
        "  y_rand = np.random.rand(y.shape[0])\n",
        "\n",
        "  X_split = X_rand < np.percentile(X_rand, split)\n",
        "  y_split = y_rand < np.percentile(y_rand, split)\n",
        "\n",
        "  X_train = X[X_split]\n",
        "  X_test = X[~ X_split]\n",
        "  y_train = y[y_split]\n",
        "  y_test = y[~ y_split]\n",
        "\n",
        "  return X_train, X_test, y_train, y_test"
      ],
      "metadata": {
        "id": "9EuT0Hbu4itv"
      },
      "execution_count": 46,
      "outputs": []
    },
    {
      "cell_type": "code",
      "source": [
        "# Performing stochastic gradient descent\n",
        "def gradient_descent(X, y, max_iterations, batch_size, lambda_value, learning_rate, tolerance):\n",
        "  # X : Input matrix with added bias units\n",
        "  # y: target vector\n",
        "  # Hyper parameters\n",
        "  # max_iterations : maximum number of iterations\n",
        "  # batch_size : mini batch size \n",
        "  # lambda_value : regularisation weight\n",
        "  # learning_rate : size of steps to be raken in a direction\n",
        "  # tolerance : fixed constant to be checked for convergance\n",
        "  \n",
        "  # number of observations and features\n",
        "  nrows = X.shape[0]\n",
        "  ncols = X.shape[1]\n",
        "  \n",
        "  # randomized initialization for weights\n",
        "  initial_weights = np.array([[np.random.randint(100)],[-1]])\n",
        "  #initial_weights = np.array(np.random.normal(scale=ncols, size=(ncols,1)).astype('float64'))\n",
        "\n",
        "  loss_history = np.zeros(max_iterations)\n",
        "  theta_history = np.zeros((max_iterations,ncols))\n",
        "\n",
        "  weights = np.array(initial_weights)\n",
        "  current_loss = None\n",
        "  epoch = 0\n",
        "  converged = False\n",
        "  while not converged and epoch < max_iterations:\n",
        "  #for iter in range(max_iterations):\n",
        "    # for each iteration\n",
        "    # we calculate gradient of loss function wrt each parameter\n",
        "    # calculate current loss\n",
        "    # update weights for each feature and repeat until convergence or until we have reached max_iterations.\n",
        "\n",
        "    gradient_sum_squares = 0\n",
        "    # algorithm requires randomly selected observations for each mini-batch\n",
        "    # so we neeed to shuffle X and y to generate random samples\n",
        "    Xy = np.concatenate([X, y], axis=1)\n",
        "    np.random.shuffle(Xy)\n",
        "    X, y = Xy[:,:-1], Xy[:,-1:]\n",
        "\n",
        "    # Mini batch starts here\n",
        "    for i in range(int(np.ceil(nrows/batch_size))):\n",
        "      start, stop = batch_size*i, np.min([batch_size*(i+1), nrows])\n",
        "      # defining mini-batches\n",
        "      X_batch, y_batch = X[start:stop], y[start:stop]\n",
        "\n",
        "      # calculate error using current weights\n",
        "      error = y_batch - predict(X_batch, weights)\n",
        "      # computing gradients\n",
        "      gradient = compute_gradient(X_batch, error, weights, lambda_value) \n",
        "      gradient_sum_squares = gradient_sum_squares + (gradient ** 2)\n",
        "      # calculate step size to move in negative gradient direction\n",
        "      step_size = learning_rate * gradient\n",
        "      # update weights\n",
        "      weights = update_weights(weights, step_size)\n",
        "      # calculate loss using current weights\n",
        "      error = y_batch - predict(X_batch, weights)\n",
        "      current_loss = compute_l2_loss(X_batch, y_batch, weights, lambda_value)\n",
        "      # logging progress\n",
        "      loss_history[epoch] = current_loss\n",
        "      theta_history[epoch, :] = weights.T\n",
        "      gradient_magnitude = np.sqrt(gradient_sum_squares)\n",
        "      # Checking for convergence\n",
        "      # stop when magnitude of gradient vector is smaller than tolerance\n",
        "      if np.all(np.abs(gradient_magnitude) <= tolerance):\n",
        "        converged = True\n",
        "      if epoch % 20 == 0:\n",
        "        # logging current model parameters and loss\n",
        "        print(f\"Mini-Batch: {i} | Epoch: {epoch} ----> Loss: {current_loss}\")\n",
        "    if epoch % 20 == 0:\n",
        "      print(\"--------------------------------------------------------\")\n",
        "    epoch +=  1\n",
        "  # return learned parameters\n",
        "  return weights, loss_history, theta_history\n"
      ],
      "metadata": {
        "id": "kCs9iK4QSjRm"
      },
      "execution_count": 47,
      "outputs": []
    },
    {
      "cell_type": "code",
      "source": [
        "# treat 'year' as independent/predictor variable and 'extent' as target variable\n",
        "X = np.asarray(seaice_df.loc[:,'year'])\n",
        "y = np.asarray(seaice_df.loc[:,'extent'])"
      ],
      "metadata": {
        "id": "IhW5bBVS4wf6"
      },
      "execution_count": 48,
      "outputs": []
    },
    {
      "cell_type": "code",
      "source": [
        "# Reshaping X (input matrix) to include bias term\n",
        "X_data = np.reshape(np.ravel(X), (X.size,1))\n",
        "X_data = np.concatenate([np.ones_like(X_data, dtype='float64'), X_data])\n",
        "X_data = np.reshape(X_data, (2,-1)).transpose()\n",
        "# Reshaping y (target vector)\n",
        "y_data = np.reshape(np.ravel(y), (y.size,1))"
      ],
      "metadata": {
        "id": "XsQF1EBEiUqO"
      },
      "execution_count": 49,
      "outputs": []
    },
    {
      "cell_type": "code",
      "source": [
        "estimated_weights, loss_history, theta_history = gradient_descent(X_data, y_data, max_iterations=500, batch_size=32, lambda_value=0.01, learning_rate=7e-9, tolerance=2e-8)"
      ],
      "metadata": {
        "colab": {
          "base_uri": "https://localhost:8080/"
        },
        "id": "9wYbu3oyiSyr",
        "outputId": "e26ba169-2458-45d5-d0dd-057983ebec32"
      },
      "execution_count": 50,
      "outputs": [
        {
          "output_type": "stream",
          "name": "stdout",
          "text": [
            "Mini-Batch: 0 | Epoch: 0 ----> Loss: 1789900.5683016833\n",
            "Mini-Batch: 1 | Epoch: 0 ----> Loss: 1691740.1380027728\n",
            "--------------------------------------------------------\n",
            "Mini-Batch: 0 | Epoch: 20 ----> Loss: 185135.664290133\n",
            "Mini-Batch: 1 | Epoch: 20 ----> Loss: 173885.54859791131\n",
            "--------------------------------------------------------\n",
            "Mini-Batch: 0 | Epoch: 40 ----> Loss: 19636.432980210797\n",
            "Mini-Batch: 1 | Epoch: 40 ----> Loss: 18214.300736241505\n",
            "--------------------------------------------------------\n",
            "Mini-Batch: 0 | Epoch: 60 ----> Loss: 2643.263274619886\n",
            "Mini-Batch: 1 | Epoch: 60 ----> Loss: 2124.6755141665885\n",
            "--------------------------------------------------------\n",
            "Mini-Batch: 0 | Epoch: 80 ----> Loss: 896.5640497555664\n",
            "Mini-Batch: 1 | Epoch: 80 ----> Loss: 470.5812981009487\n",
            "--------------------------------------------------------\n",
            "Mini-Batch: 0 | Epoch: 100 ----> Loss: 716.7803255900312\n",
            "Mini-Batch: 1 | Epoch: 100 ----> Loss: 301.24686454055956\n",
            "--------------------------------------------------------\n",
            "Mini-Batch: 0 | Epoch: 120 ----> Loss: 697.9106703140266\n",
            "Mini-Batch: 1 | Epoch: 120 ----> Loss: 284.87685735089246\n",
            "--------------------------------------------------------\n",
            "Mini-Batch: 0 | Epoch: 140 ----> Loss: 696.1112445623166\n",
            "Mini-Batch: 1 | Epoch: 140 ----> Loss: 282.90637243018233\n",
            "--------------------------------------------------------\n",
            "Mini-Batch: 0 | Epoch: 160 ----> Loss: 695.9063118443817\n",
            "Mini-Batch: 1 | Epoch: 160 ----> Loss: 282.766306346865\n",
            "--------------------------------------------------------\n",
            "Mini-Batch: 0 | Epoch: 180 ----> Loss: 695.898077298741\n",
            "Mini-Batch: 1 | Epoch: 180 ----> Loss: 282.7263154556783\n",
            "--------------------------------------------------------\n",
            "Mini-Batch: 0 | Epoch: 200 ----> Loss: 695.8922218661771\n",
            "Mini-Batch: 1 | Epoch: 200 ----> Loss: 282.7370366167093\n",
            "--------------------------------------------------------\n",
            "Mini-Batch: 0 | Epoch: 220 ----> Loss: 695.8872350300285\n",
            "Mini-Batch: 1 | Epoch: 220 ----> Loss: 282.7489831325094\n",
            "--------------------------------------------------------\n",
            "Mini-Batch: 0 | Epoch: 240 ----> Loss: 695.8846380245742\n",
            "Mini-Batch: 1 | Epoch: 240 ----> Loss: 282.75588792106515\n",
            "--------------------------------------------------------\n",
            "Mini-Batch: 0 | Epoch: 260 ----> Loss: 695.8854338098174\n",
            "Mini-Batch: 1 | Epoch: 260 ----> Loss: 282.7537150654134\n",
            "--------------------------------------------------------\n",
            "Mini-Batch: 0 | Epoch: 280 ----> Loss: 695.8962408040672\n",
            "Mini-Batch: 1 | Epoch: 280 ----> Loss: 282.72733148934975\n",
            "--------------------------------------------------------\n",
            "Mini-Batch: 0 | Epoch: 300 ----> Loss: 695.9007139632433\n",
            "Mini-Batch: 1 | Epoch: 300 ----> Loss: 282.71622328992754\n",
            "--------------------------------------------------------\n",
            "Mini-Batch: 0 | Epoch: 320 ----> Loss: 695.8780487529089\n",
            "Mini-Batch: 1 | Epoch: 320 ----> Loss: 282.77189582216124\n",
            "--------------------------------------------------------\n",
            "Mini-Batch: 0 | Epoch: 340 ----> Loss: 695.8816031092\n",
            "Mini-Batch: 1 | Epoch: 340 ----> Loss: 282.76272288366846\n",
            "--------------------------------------------------------\n",
            "Mini-Batch: 0 | Epoch: 360 ----> Loss: 695.8882916804534\n",
            "Mini-Batch: 1 | Epoch: 360 ----> Loss: 282.74673742303617\n",
            "--------------------------------------------------------\n",
            "Mini-Batch: 0 | Epoch: 380 ----> Loss: 695.8940523578051\n",
            "Mini-Batch: 1 | Epoch: 380 ----> Loss: 282.7321340604766\n",
            "--------------------------------------------------------\n",
            "Mini-Batch: 0 | Epoch: 400 ----> Loss: 695.8881355781791\n",
            "Mini-Batch: 1 | Epoch: 400 ----> Loss: 282.74681737259374\n",
            "--------------------------------------------------------\n",
            "Mini-Batch: 0 | Epoch: 420 ----> Loss: 695.8737677374102\n",
            "Mini-Batch: 1 | Epoch: 420 ----> Loss: 282.78276306410015\n",
            "--------------------------------------------------------\n",
            "Mini-Batch: 0 | Epoch: 440 ----> Loss: 695.8663865724908\n",
            "Mini-Batch: 1 | Epoch: 440 ----> Loss: 282.8009359729028\n",
            "--------------------------------------------------------\n",
            "Mini-Batch: 0 | Epoch: 460 ----> Loss: 695.8854663235942\n",
            "Mini-Batch: 1 | Epoch: 460 ----> Loss: 282.7540877253438\n",
            "--------------------------------------------------------\n",
            "Mini-Batch: 0 | Epoch: 480 ----> Loss: 695.8883403575096\n",
            "Mini-Batch: 1 | Epoch: 480 ----> Loss: 282.7477137325257\n",
            "--------------------------------------------------------\n"
          ]
        }
      ]
    },
    {
      "cell_type": "code",
      "source": [
        "estimated_weights"
      ],
      "metadata": {
        "colab": {
          "base_uri": "https://localhost:8080/"
        },
        "id": "wmwOFwULXNS-",
        "outputId": "1aa5791f-5bca-4b1a-b3c9-56c7349ed0e2"
      },
      "execution_count": 51,
      "outputs": [
        {
          "output_type": "execute_result",
          "data": {
            "text/plain": [
              "array([[ 6.59727128e+01],\n",
              "       [-2.72874514e-02]])"
            ]
          },
          "metadata": {},
          "execution_count": 51
        }
      ]
    },
    {
      "cell_type": "code",
      "source": [
        "predictions = predict(X_data, estimated_weights)"
      ],
      "metadata": {
        "id": "Qkz0W5Wrk8Cq"
      },
      "execution_count": 52,
      "outputs": []
    },
    {
      "cell_type": "code",
      "source": [
        "pd.DataFrame(data=predictions,columns=['Predictions']).head()"
      ],
      "metadata": {
        "colab": {
          "base_uri": "https://localhost:8080/",
          "height": 204
        },
        "id": "0CRPwwOaR7Cl",
        "outputId": "1d5ba01b-e5b1-4c63-b2b2-8f604765ed03"
      },
      "execution_count": 53,
      "outputs": [
        {
          "output_type": "execute_result",
          "data": {
            "text/plain": [
              "   Predictions\n",
              "0    11.998134\n",
              "1    11.970846\n",
              "2    11.943559\n",
              "3    11.916272\n",
              "4    11.888984"
            ],
            "text/html": [
              "\n",
              "  <div id=\"df-16144aad-6b27-40b1-8a1a-a9a96aeed89a\">\n",
              "    <div class=\"colab-df-container\">\n",
              "      <div>\n",
              "<style scoped>\n",
              "    .dataframe tbody tr th:only-of-type {\n",
              "        vertical-align: middle;\n",
              "    }\n",
              "\n",
              "    .dataframe tbody tr th {\n",
              "        vertical-align: top;\n",
              "    }\n",
              "\n",
              "    .dataframe thead th {\n",
              "        text-align: right;\n",
              "    }\n",
              "</style>\n",
              "<table border=\"1\" class=\"dataframe\">\n",
              "  <thead>\n",
              "    <tr style=\"text-align: right;\">\n",
              "      <th></th>\n",
              "      <th>Predictions</th>\n",
              "    </tr>\n",
              "  </thead>\n",
              "  <tbody>\n",
              "    <tr>\n",
              "      <th>0</th>\n",
              "      <td>11.998134</td>\n",
              "    </tr>\n",
              "    <tr>\n",
              "      <th>1</th>\n",
              "      <td>11.970846</td>\n",
              "    </tr>\n",
              "    <tr>\n",
              "      <th>2</th>\n",
              "      <td>11.943559</td>\n",
              "    </tr>\n",
              "    <tr>\n",
              "      <th>3</th>\n",
              "      <td>11.916272</td>\n",
              "    </tr>\n",
              "    <tr>\n",
              "      <th>4</th>\n",
              "      <td>11.888984</td>\n",
              "    </tr>\n",
              "  </tbody>\n",
              "</table>\n",
              "</div>\n",
              "      <button class=\"colab-df-convert\" onclick=\"convertToInteractive('df-16144aad-6b27-40b1-8a1a-a9a96aeed89a')\"\n",
              "              title=\"Convert this dataframe to an interactive table.\"\n",
              "              style=\"display:none;\">\n",
              "        \n",
              "  <svg xmlns=\"http://www.w3.org/2000/svg\" height=\"24px\"viewBox=\"0 0 24 24\"\n",
              "       width=\"24px\">\n",
              "    <path d=\"M0 0h24v24H0V0z\" fill=\"none\"/>\n",
              "    <path d=\"M18.56 5.44l.94 2.06.94-2.06 2.06-.94-2.06-.94-.94-2.06-.94 2.06-2.06.94zm-11 1L8.5 8.5l.94-2.06 2.06-.94-2.06-.94L8.5 2.5l-.94 2.06-2.06.94zm10 10l.94 2.06.94-2.06 2.06-.94-2.06-.94-.94-2.06-.94 2.06-2.06.94z\"/><path d=\"M17.41 7.96l-1.37-1.37c-.4-.4-.92-.59-1.43-.59-.52 0-1.04.2-1.43.59L10.3 9.45l-7.72 7.72c-.78.78-.78 2.05 0 2.83L4 21.41c.39.39.9.59 1.41.59.51 0 1.02-.2 1.41-.59l7.78-7.78 2.81-2.81c.8-.78.8-2.07 0-2.86zM5.41 20L4 18.59l7.72-7.72 1.47 1.35L5.41 20z\"/>\n",
              "  </svg>\n",
              "      </button>\n",
              "      \n",
              "  <style>\n",
              "    .colab-df-container {\n",
              "      display:flex;\n",
              "      flex-wrap:wrap;\n",
              "      gap: 12px;\n",
              "    }\n",
              "\n",
              "    .colab-df-convert {\n",
              "      background-color: #E8F0FE;\n",
              "      border: none;\n",
              "      border-radius: 50%;\n",
              "      cursor: pointer;\n",
              "      display: none;\n",
              "      fill: #1967D2;\n",
              "      height: 32px;\n",
              "      padding: 0 0 0 0;\n",
              "      width: 32px;\n",
              "    }\n",
              "\n",
              "    .colab-df-convert:hover {\n",
              "      background-color: #E2EBFA;\n",
              "      box-shadow: 0px 1px 2px rgba(60, 64, 67, 0.3), 0px 1px 3px 1px rgba(60, 64, 67, 0.15);\n",
              "      fill: #174EA6;\n",
              "    }\n",
              "\n",
              "    [theme=dark] .colab-df-convert {\n",
              "      background-color: #3B4455;\n",
              "      fill: #D2E3FC;\n",
              "    }\n",
              "\n",
              "    [theme=dark] .colab-df-convert:hover {\n",
              "      background-color: #434B5C;\n",
              "      box-shadow: 0px 1px 3px 1px rgba(0, 0, 0, 0.15);\n",
              "      filter: drop-shadow(0px 1px 2px rgba(0, 0, 0, 0.3));\n",
              "      fill: #FFFFFF;\n",
              "    }\n",
              "  </style>\n",
              "\n",
              "      <script>\n",
              "        const buttonEl =\n",
              "          document.querySelector('#df-16144aad-6b27-40b1-8a1a-a9a96aeed89a button.colab-df-convert');\n",
              "        buttonEl.style.display =\n",
              "          google.colab.kernel.accessAllowed ? 'block' : 'none';\n",
              "\n",
              "        async function convertToInteractive(key) {\n",
              "          const element = document.querySelector('#df-16144aad-6b27-40b1-8a1a-a9a96aeed89a');\n",
              "          const dataTable =\n",
              "            await google.colab.kernel.invokeFunction('convertToInteractive',\n",
              "                                                     [key], {});\n",
              "          if (!dataTable) return;\n",
              "\n",
              "          const docLinkHtml = 'Like what you see? Visit the ' +\n",
              "            '<a target=\"_blank\" href=https://colab.research.google.com/notebooks/data_table.ipynb>data table notebook</a>'\n",
              "            + ' to learn more about interactive tables.';\n",
              "          element.innerHTML = '';\n",
              "          dataTable['output_type'] = 'display_data';\n",
              "          await google.colab.output.renderOutput(dataTable, element);\n",
              "          const docLink = document.createElement('div');\n",
              "          docLink.innerHTML = docLinkHtml;\n",
              "          element.appendChild(docLink);\n",
              "        }\n",
              "      </script>\n",
              "    </div>\n",
              "  </div>\n",
              "  "
            ]
          },
          "metadata": {},
          "execution_count": 53
        }
      ]
    },
    {
      "cell_type": "code",
      "source": [
        "plot_model(X, y, predictions)"
      ],
      "metadata": {
        "colab": {
          "base_uri": "https://localhost:8080/",
          "height": 352
        },
        "id": "7sX79s1orcvq",
        "outputId": "1f702264-725a-4fe1-f153-04892a209d63"
      },
      "execution_count": 54,
      "outputs": [
        {
          "output_type": "display_data",
          "data": {
            "text/plain": [
              "<Figure size 360x360 with 1 Axes>"
            ],
            "image/png": "[encoded data removed]"
          },
          "metadata": {}
        }
      ]
    },
    {
      "cell_type": "code",
      "source": [
        "# Visualizing change in loss function and weights wrt epochs\n",
        "def plot_gradient_descent(theta_history, loss_history):\n",
        "  fig, ax1 = plt.subplots()\n",
        "\n",
        "  # plot thetas over time\n",
        "  color='tab:blue'\n",
        "  ax1.plot(theta_history[:,0], label='$\\\\theta_{0}$', linestyle='--', color=color)\n",
        "  ax1.plot(theta_history[:,1], label='$\\\\theta_{1}$', linestyle='-', color=color)\n",
        "  # ax1.legend()\n",
        "  ax1.set_xlabel('Iterations'); ax1.set_ylabel('$\\\\theta$', color=color);\n",
        "  ax1.tick_params(axis='y', labelcolor=color)\n",
        "\n",
        "  # plot loss function over time\n",
        "  color='tab:red'\n",
        "  ax2 = ax1.twinx()\n",
        "  ax2.plot(loss_history, label='Loss function', color=color)\n",
        "  ax2.set_title('Values of $\\\\theta$ and $L(\\\\theta)$ over iterations')\n",
        "  ax2.set_ylabel('Loss: $L(\\\\theta)$', color=color)\n",
        "  ax1.tick_params(axis='y', labelcolor=color)\n",
        "\n",
        "  # ax2.legend();\n",
        "  fig.legend();"
      ],
      "metadata": {
        "id": "mlf3DC0jLsfB"
      },
      "execution_count": 55,
      "outputs": []
    },
    {
      "cell_type": "code",
      "source": [
        "plot_gradient_descent(theta_history, loss_history)"
      ],
      "metadata": {
        "colab": {
          "base_uri": "https://localhost:8080/",
          "height": 309
        },
        "id": "YCkvXXgcMFeU",
        "outputId": "19f2f52a-4a97-49f3-9b70-bd527162da2a"
      },
      "execution_count": 56,
      "outputs": [
        {
          "output_type": "display_data",
          "data": {
            "text/plain": [
              "<Figure size 432x288 with 2 Axes>"
            ],
            "image/png": "[encoded data removed]"
          },
          "metadata": {}
        }
      ]
    }
  ]
}