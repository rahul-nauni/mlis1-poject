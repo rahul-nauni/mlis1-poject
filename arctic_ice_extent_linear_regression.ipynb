{
  "nbformat": 4,
  "nbformat_minor": 0,
  "metadata": {
    "colab": {
      "provenance": [],
      "mount_file_id": "1FKZBhK7d7tWGVZYFwyNi7groMB8hDxYZ",
      "authorship_tag": "ABX9TyOTDfzNQyt+eU5SVXTFhSvB",
      "include_colab_link": true
    },
    "kernelspec": {
      "name": "python3",
      "display_name": "Python 3"
    },
    "language_info": {
      "name": "python"
    }
  },
  "cells": [
    {
      "cell_type": "markdown",
      "metadata": {
        "id": "view-in-github",
        "colab_type": "text"
      },
      "source": [
        "<a href=\"https://colab.research.google.com/github/rahul-nauni/mlis1-poject/blob/main/arctic_ice_extent_linear_regression.ipynb\" target=\"_parent\"><img src=\"https://colab.research.google.com/assets/colab-badge.svg\" alt=\"Open In Colab\"/></a>"
      ]
    },
    {
      "cell_type": "code",
      "execution_count": 1032,
      "metadata": {
        "id": "EkYTpWH-_lJi"
      },
      "outputs": [],
      "source": [
        "# Author: Rahul Nauni\n",
        "# importing libraries\n",
        "import numpy as np\n",
        "import pandas as pd\n",
        "import glob\n",
        "import os\n",
        "import matplotlib.pyplot as plt\n",
        "%matplotlib inline\n",
        "plt.style.use('fivethirtyeight')"
      ]
    },
    {
      "cell_type": "code",
      "source": [
        "# defining column names and data types to use\n",
        "columns_list = ['year', ' extent', ' mo']\n",
        "columns_dtype_list = {'year': 'int64', 'extent': 'float64', 'mo': 'int64'}"
      ],
      "metadata": {
        "id": "BgRXF9qT2xGV"
      },
      "execution_count": 1101,
      "outputs": []
    },
    {
      "cell_type": "code",
      "source": [
        "# Load csv file\n",
        "path = '/content/drive/MyDrive/ML'\n",
        "files = glob.glob(os.path.join(path, 'N*extent*.csv'))\n",
        "df = pd.concat((pd.read_csv(f, na_values = -9999.00, usecols=columns_list, dtype=columns_dtype_list, index_col=None) for f in files),axis=0)"
      ],
      "metadata": {
        "id": "S7up1qvoP--2"
      },
      "execution_count": 1102,
      "outputs": []
    },
    {
      "cell_type": "code",
      "source": [
        "# remove special character from column names\n",
        "df.columns = df.columns.str.replace(' ', '')"
      ],
      "metadata": {
        "id": "F2HTRBZH4V32"
      },
      "execution_count": 1054,
      "outputs": []
    },
    {
      "cell_type": "code",
      "source": [
        "# imputing missing values with mean value\n",
        "def impute_missing(df):\n",
        "  for col in df.select_dtypes(include=['int64', 'float64']).columns:\n",
        "    df.loc[:, col] = df.loc[:,col].fillna(round(np.mean(df.loc[:, col]),2))"
      ],
      "metadata": {
        "id": "3axyiIwaC6QX"
      },
      "execution_count": 1055,
      "outputs": []
    },
    {
      "cell_type": "code",
      "source": [
        "impute_missing(df)"
      ],
      "metadata": {
        "id": "M3ArF44OOktA"
      },
      "execution_count": 1056,
      "outputs": []
    },
    {
      "cell_type": "code",
      "source": [
        "# check for null values\n",
        "df.isna().sum()"
      ],
      "metadata": {
        "colab": {
          "base_uri": "https://localhost:8080/"
        },
        "id": "0ZP3fVPuyOGU",
        "outputId": "4a3b3fa5-8f57-4768-b085-a7b98c6a48d0"
      },
      "execution_count": 1057,
      "outputs": [
        {
          "output_type": "execute_result",
          "data": {
            "text/plain": [
              "year      0\n",
              "mo        0\n",
              "extent    0\n",
              "dtype: int64"
            ]
          },
          "metadata": {},
          "execution_count": 1057
        }
      ]
    },
    {
      "cell_type": "code",
      "source": [
        "# we will implement linear regression model by using year 1978-2022 as our input feature\n",
        "# Year avg. Arctic ice extent will be our target variable\n",
        "seaice_df = df.groupby(['year']).agg({'extent': 'mean'}).reset_index()"
      ],
      "metadata": {
        "id": "o_7GpKjN-spG"
      },
      "execution_count": 1058,
      "outputs": []
    },
    {
      "cell_type": "code",
      "source": [
        "seaice_df.head()"
      ],
      "metadata": {
        "colab": {
          "base_uri": "https://localhost:8080/",
          "height": 206
        },
        "id": "4Dui9GFHh8tM",
        "outputId": "318ff734-d9d1-4417-abd7-b6bbafb611d0"
      },
      "execution_count": 1059,
      "outputs": [
        {
          "output_type": "execute_result",
          "data": {
            "text/plain": [
              "   year     extent\n",
              "0  1978  12.660000\n",
              "1  1979  12.350000\n",
              "2  1980  12.348333\n",
              "3  1981  12.146667\n",
              "4  1982  12.467500"
            ],
            "text/html": [
              "\n",
              "  <div id=\"df-2b411843-73eb-4fe0-9479-7e921fd6482d\">\n",
              "    <div class=\"colab-df-container\">\n",
              "      <div>\n",
              "<style scoped>\n",
              "    .dataframe tbody tr th:only-of-type {\n",
              "        vertical-align: middle;\n",
              "    }\n",
              "\n",
              "    .dataframe tbody tr th {\n",
              "        vertical-align: top;\n",
              "    }\n",
              "\n",
              "    .dataframe thead th {\n",
              "        text-align: right;\n",
              "    }\n",
              "</style>\n",
              "<table border=\"1\" class=\"dataframe\">\n",
              "  <thead>\n",
              "    <tr style=\"text-align: right;\">\n",
              "      <th></th>\n",
              "      <th>year</th>\n",
              "      <th>extent</th>\n",
              "    </tr>\n",
              "  </thead>\n",
              "  <tbody>\n",
              "    <tr>\n",
              "      <th>0</th>\n",
              "      <td>1978</td>\n",
              "      <td>12.660000</td>\n",
              "    </tr>\n",
              "    <tr>\n",
              "      <th>1</th>\n",
              "      <td>1979</td>\n",
              "      <td>12.350000</td>\n",
              "    </tr>\n",
              "    <tr>\n",
              "      <th>2</th>\n",
              "      <td>1980</td>\n",
              "      <td>12.348333</td>\n",
              "    </tr>\n",
              "    <tr>\n",
              "      <th>3</th>\n",
              "      <td>1981</td>\n",
              "      <td>12.146667</td>\n",
              "    </tr>\n",
              "    <tr>\n",
              "      <th>4</th>\n",
              "      <td>1982</td>\n",
              "      <td>12.467500</td>\n",
              "    </tr>\n",
              "  </tbody>\n",
              "</table>\n",
              "</div>\n",
              "      <button class=\"colab-df-convert\" onclick=\"convertToInteractive('df-2b411843-73eb-4fe0-9479-7e921fd6482d')\"\n",
              "              title=\"Convert this dataframe to an interactive table.\"\n",
              "              style=\"display:none;\">\n",
              "        \n",
              "  <svg xmlns=\"http://www.w3.org/2000/svg\" height=\"24px\"viewBox=\"0 0 24 24\"\n",
              "       width=\"24px\">\n",
              "    <path d=\"M0 0h24v24H0V0z\" fill=\"none\"/>\n",
              "    <path d=\"M18.56 5.44l.94 2.06.94-2.06 2.06-.94-2.06-.94-.94-2.06-.94 2.06-2.06.94zm-11 1L8.5 8.5l.94-2.06 2.06-.94-2.06-.94L8.5 2.5l-.94 2.06-2.06.94zm10 10l.94 2.06.94-2.06 2.06-.94-2.06-.94-.94-2.06-.94 2.06-2.06.94z\"/><path d=\"M17.41 7.96l-1.37-1.37c-.4-.4-.92-.59-1.43-.59-.52 0-1.04.2-1.43.59L10.3 9.45l-7.72 7.72c-.78.78-.78 2.05 0 2.83L4 21.41c.39.39.9.59 1.41.59.51 0 1.02-.2 1.41-.59l7.78-7.78 2.81-2.81c.8-.78.8-2.07 0-2.86zM5.41 20L4 18.59l7.72-7.72 1.47 1.35L5.41 20z\"/>\n",
              "  </svg>\n",
              "      </button>\n",
              "      \n",
              "  <style>\n",
              "    .colab-df-container {\n",
              "      display:flex;\n",
              "      flex-wrap:wrap;\n",
              "      gap: 12px;\n",
              "    }\n",
              "\n",
              "    .colab-df-convert {\n",
              "      background-color: #E8F0FE;\n",
              "      border: none;\n",
              "      border-radius: 50%;\n",
              "      cursor: pointer;\n",
              "      display: none;\n",
              "      fill: #1967D2;\n",
              "      height: 32px;\n",
              "      padding: 0 0 0 0;\n",
              "      width: 32px;\n",
              "    }\n",
              "\n",
              "    .colab-df-convert:hover {\n",
              "      background-color: #E2EBFA;\n",
              "      box-shadow: 0px 1px 2px rgba(60, 64, 67, 0.3), 0px 1px 3px 1px rgba(60, 64, 67, 0.15);\n",
              "      fill: #174EA6;\n",
              "    }\n",
              "\n",
              "    [theme=dark] .colab-df-convert {\n",
              "      background-color: #3B4455;\n",
              "      fill: #D2E3FC;\n",
              "    }\n",
              "\n",
              "    [theme=dark] .colab-df-convert:hover {\n",
              "      background-color: #434B5C;\n",
              "      box-shadow: 0px 1px 3px 1px rgba(0, 0, 0, 0.15);\n",
              "      filter: drop-shadow(0px 1px 2px rgba(0, 0, 0, 0.3));\n",
              "      fill: #FFFFFF;\n",
              "    }\n",
              "  </style>\n",
              "\n",
              "      <script>\n",
              "        const buttonEl =\n",
              "          document.querySelector('#df-2b411843-73eb-4fe0-9479-7e921fd6482d button.colab-df-convert');\n",
              "        buttonEl.style.display =\n",
              "          google.colab.kernel.accessAllowed ? 'block' : 'none';\n",
              "\n",
              "        async function convertToInteractive(key) {\n",
              "          const element = document.querySelector('#df-2b411843-73eb-4fe0-9479-7e921fd6482d');\n",
              "          const dataTable =\n",
              "            await google.colab.kernel.invokeFunction('convertToInteractive',\n",
              "                                                     [key], {});\n",
              "          if (!dataTable) return;\n",
              "\n",
              "          const docLinkHtml = 'Like what you see? Visit the ' +\n",
              "            '<a target=\"_blank\" href=https://colab.research.google.com/notebooks/data_table.ipynb>data table notebook</a>'\n",
              "            + ' to learn more about interactive tables.';\n",
              "          element.innerHTML = '';\n",
              "          dataTable['output_type'] = 'display_data';\n",
              "          await google.colab.output.renderOutput(dataTable, element);\n",
              "          const docLink = document.createElement('div');\n",
              "          docLink.innerHTML = docLinkHtml;\n",
              "          element.appendChild(docLink);\n",
              "        }\n",
              "      </script>\n",
              "    </div>\n",
              "  </div>\n",
              "  "
            ]
          },
          "metadata": {},
          "execution_count": 1059
        }
      ]
    },
    {
      "cell_type": "code",
      "source": [
        "# treat 'year' as independent/predictor variable and 'extent' as target variable\n",
        "X = np.asarray(seaice_df.loc[:,'year'])\n",
        "y = np.asarray(seaice_df.loc[:,'extent'])"
      ],
      "metadata": {
        "id": "yioFyEosL0Yj"
      },
      "execution_count": 1598,
      "outputs": []
    },
    {
      "cell_type": "code",
      "source": [
        "def plot_data(xvals, yvals):\n",
        "  plt.scatter(x=xvals, y=yvals, label='Data points')\n",
        "  plt.xlabel('Year', fontsize=11) \n",
        "  plt.ylabel('Extent', fontsize=11)\n",
        "  plt.title('Arctic Ice Extent dataset', fontsize=15)\n",
        "  plt.legend(fontsize='11', loc='best', fancybox=True, shadow=True)\n",
        "  plt.show()"
      ],
      "metadata": {
        "id": "hXqqeYW5T9Gv"
      },
      "execution_count": 1599,
      "outputs": []
    },
    {
      "cell_type": "code",
      "source": [
        "plot_data(X, y)"
      ],
      "metadata": {
        "colab": {
          "base_uri": "https://localhost:8080/",
          "height": 314
        },
        "id": "Q975ZcrtD0DK",
        "outputId": "272dd4dc-4ded-4092-9735-cf2b244aa605"
      },
      "execution_count": 1600,
      "outputs": [
        {
          "output_type": "display_data",
          "data": {
            "text/plain": [
              "<Figure size 432x288 with 1 Axes>"
            ],
            "image/png": "[encoded data removed]"
          },
          "metadata": {}
        }
      ]
    },
    {
      "cell_type": "markdown",
      "source": [
        "## Least squares implemented using normal equations"
      ],
      "metadata": {
        "id": "1FM4sdIGNEbH"
      }
    },
    {
      "cell_type": "code",
      "source": [
        "X"
      ],
      "metadata": {
        "colab": {
          "base_uri": "https://localhost:8080/"
        },
        "id": "z0j8xRiUnOcN",
        "outputId": "a3662678-5b0c-42d2-f114-263b76b36841"
      },
      "execution_count": 1601,
      "outputs": [
        {
          "output_type": "execute_result",
          "data": {
            "text/plain": [
              "array([1978, 1979, 1980, 1981, 1982, 1983, 1984, 1985, 1986, 1987, 1988,\n",
              "       1989, 1990, 1991, 1992, 1993, 1994, 1995, 1996, 1997, 1998, 1999,\n",
              "       2000, 2001, 2002, 2003, 2004, 2005, 2006, 2007, 2008, 2009, 2010,\n",
              "       2011, 2012, 2013, 2014, 2015, 2016, 2017, 2018, 2019, 2020, 2021,\n",
              "       2022])"
            ]
          },
          "metadata": {},
          "execution_count": 1601
        }
      ]
    },
    {
      "cell_type": "code",
      "source": [
        "X.shape"
      ],
      "metadata": {
        "colab": {
          "base_uri": "https://localhost:8080/"
        },
        "id": "QWexnbcZ0Hlm",
        "outputId": "f2027671-e50f-4d06-fc3f-5cad5b264983"
      },
      "execution_count": 1602,
      "outputs": [
        {
          "output_type": "execute_result",
          "data": {
            "text/plain": [
              "(45,)"
            ]
          },
          "metadata": {},
          "execution_count": 1602
        }
      ]
    },
    {
      "cell_type": "code",
      "source": [
        "# reshaping X \n",
        "X = np.reshape(np.ravel(X), (X.size,1))"
      ],
      "metadata": {
        "id": "EQuUTTzqy3-K"
      },
      "execution_count": 1603,
      "outputs": []
    },
    {
      "cell_type": "code",
      "source": [
        "X.shape"
      ],
      "metadata": {
        "colab": {
          "base_uri": "https://localhost:8080/"
        },
        "id": "gYoJ_DcN1M4-",
        "outputId": "6a123a63-e1f9-477e-be23-4d55e01e03e4"
      },
      "execution_count": 1604,
      "outputs": [
        {
          "output_type": "execute_result",
          "data": {
            "text/plain": [
              "(45, 1)"
            ]
          },
          "metadata": {},
          "execution_count": 1604
        }
      ]
    },
    {
      "cell_type": "code",
      "source": [
        "# appending 1's in first column which serves as bias or input to 'y intercept' in our regression model\n",
        "# X_des_mat is our design matrix\n",
        "X_des_mat = np.concatenate([np.ones_like(X, dtype='int64'), X])"
      ],
      "metadata": {
        "id": "iuylCXLJrl0J"
      },
      "execution_count": 1605,
      "outputs": []
    },
    {
      "cell_type": "code",
      "source": [
        "X_des_mat = np.reshape(X_des_mat, (2,-1)).T"
      ],
      "metadata": {
        "id": "7kMSU2uO2P7K"
      },
      "execution_count": 1606,
      "outputs": []
    },
    {
      "cell_type": "code",
      "source": [
        "# print design matrix\n",
        "X_des_mat"
      ],
      "metadata": {
        "colab": {
          "base_uri": "https://localhost:8080/"
        },
        "id": "bg4d6Vj02dFE",
        "outputId": "da03dd73-8a74-421b-be14-ffa8279f8de0"
      },
      "execution_count": 1607,
      "outputs": [
        {
          "output_type": "execute_result",
          "data": {
            "text/plain": [
              "array([[   1, 1978],\n",
              "       [   1, 1979],\n",
              "       [   1, 1980],\n",
              "       [   1, 1981],\n",
              "       [   1, 1982],\n",
              "       [   1, 1983],\n",
              "       [   1, 1984],\n",
              "       [   1, 1985],\n",
              "       [   1, 1986],\n",
              "       [   1, 1987],\n",
              "       [   1, 1988],\n",
              "       [   1, 1989],\n",
              "       [   1, 1990],\n",
              "       [   1, 1991],\n",
              "       [   1, 1992],\n",
              "       [   1, 1993],\n",
              "       [   1, 1994],\n",
              "       [   1, 1995],\n",
              "       [   1, 1996],\n",
              "       [   1, 1997],\n",
              "       [   1, 1998],\n",
              "       [   1, 1999],\n",
              "       [   1, 2000],\n",
              "       [   1, 2001],\n",
              "       [   1, 2002],\n",
              "       [   1, 2003],\n",
              "       [   1, 2004],\n",
              "       [   1, 2005],\n",
              "       [   1, 2006],\n",
              "       [   1, 2007],\n",
              "       [   1, 2008],\n",
              "       [   1, 2009],\n",
              "       [   1, 2010],\n",
              "       [   1, 2011],\n",
              "       [   1, 2012],\n",
              "       [   1, 2013],\n",
              "       [   1, 2014],\n",
              "       [   1, 2015],\n",
              "       [   1, 2016],\n",
              "       [   1, 2017],\n",
              "       [   1, 2018],\n",
              "       [   1, 2019],\n",
              "       [   1, 2020],\n",
              "       [   1, 2021],\n",
              "       [   1, 2022]])"
            ]
          },
          "metadata": {},
          "execution_count": 1607
        }
      ]
    },
    {
      "cell_type": "markdown",
      "source": [
        "We'll calculate weights for our model using following formula:\n",
        "\n",
        "$ w = ( X^T X )^{-1} X^T y $ \n",
        "\n",
        "**note:** this method requires X to have full column rank i.e., columns of matrix X must be linearly independent"
      ],
      "metadata": {
        "id": "lPQ13aRt8AjX"
      }
    },
    {
      "cell_type": "code",
      "source": [
        "nrows, ncols = X_des_mat.shape"
      ],
      "metadata": {
        "id": "lKYgpRf44LHe"
      },
      "execution_count": 826,
      "outputs": []
    },
    {
      "cell_type": "code",
      "source": [
        "X_des_mat_rank = np.linalg.matrix_rank(X_des_mat)"
      ],
      "metadata": {
        "id": "tW6kr74c6_b0"
      },
      "execution_count": 827,
      "outputs": []
    },
    {
      "cell_type": "code",
      "source": [
        "# check if design matrix has full column rank\n",
        "if nrows >= ncols == X_des_mat_rank:\n",
        "  weights = np.matmul(np.matmul(np.linalg.inv(np.matmul(X_des_mat.transpose(),X_des_mat)),X_des_mat.transpose()),y)\n",
        "  weights = np.reshape(weights, (-1,1))"
      ],
      "metadata": {
        "id": "_tNTiJIUBveT"
      },
      "execution_count": 828,
      "outputs": []
    },
    {
      "cell_type": "code",
      "source": [
        "print(weights)"
      ],
      "metadata": {
        "colab": {
          "base_uri": "https://localhost:8080/"
        },
        "id": "qJQwlBVmDgJE",
        "outputId": "4c6883e3-c621-4f56-ffeb-b85bc9f59ae1"
      },
      "execution_count": 829,
      "outputs": [
        {
          "output_type": "stream",
          "name": "stdout",
          "text": [
            "[[ 1.17496858e+02]\n",
            " [-5.30554458e-02]]\n"
          ]
        }
      ]
    },
    {
      "cell_type": "code",
      "source": [
        "predictions = np.matmul(X_des_mat, weights)"
      ],
      "metadata": {
        "id": "gl0v7do-EvDT"
      },
      "execution_count": 830,
      "outputs": []
    },
    {
      "cell_type": "code",
      "source": [
        "# fit regression line through data\n",
        "def plot_model(X, y, predictions):\n",
        "  plt.figure(figsize=(5,5))\n",
        "  plt.scatter(X, y, label='data points')\n",
        "  plt.xlabel('Year', fontsize=10)\n",
        "  plt.ylabel('Extent', fontsize=10)\n",
        "  plt.title('Fitted Model', fontsize=15)\n",
        "  plt.plot(X, predictions, '-', color='red', label='Regression line')\n",
        "  plt.legend(fontsize='11', loc='best', fancybox=True, shadow=True)\n",
        "  plt.show()"
      ],
      "metadata": {
        "id": "amWVJn5TEh-Z"
      },
      "execution_count": 831,
      "outputs": []
    },
    {
      "cell_type": "code",
      "source": [
        "plot_model(X, y, predictions)"
      ],
      "metadata": {
        "colab": {
          "base_uri": "https://localhost:8080/",
          "height": 372
        },
        "id": "F3u3GM5PtqM-",
        "outputId": "6cfcb367-68e6-4599-e55a-9ebe76d11131"
      },
      "execution_count": 832,
      "outputs": [
        {
          "output_type": "display_data",
          "data": {
            "text/plain": [
              "<Figure size 360x360 with 1 Axes>"
            ],
            "image/png": "[encoded data removed]"
          },
          "metadata": {}
        }
      ]
    },
    {
      "cell_type": "markdown",
      "source": [
        "Making predictions"
      ],
      "metadata": {
        "id": "Ph6JDVon66G2"
      }
    },
    {
      "cell_type": "code",
      "source": [
        "X_new = np.array([1980,1981,1982,1983,1984,1985])"
      ],
      "metadata": {
        "id": "beeVGaL775O9"
      },
      "execution_count": 833,
      "outputs": []
    },
    {
      "cell_type": "code",
      "source": [
        "X_new.shape"
      ],
      "metadata": {
        "colab": {
          "base_uri": "https://localhost:8080/"
        },
        "id": "bZ5Q1UVX8Y6n",
        "outputId": "b75ee0d1-251c-4a34-bbf5-af38216a09ae"
      },
      "execution_count": 834,
      "outputs": [
        {
          "output_type": "execute_result",
          "data": {
            "text/plain": [
              "(6,)"
            ]
          },
          "metadata": {},
          "execution_count": 834
        }
      ]
    },
    {
      "cell_type": "code",
      "source": [
        "X_new = np.reshape(X_new, (-1,1))"
      ],
      "metadata": {
        "id": "BJrvfKeO-Wwu"
      },
      "execution_count": 835,
      "outputs": []
    },
    {
      "cell_type": "code",
      "source": [
        "X_new"
      ],
      "metadata": {
        "colab": {
          "base_uri": "https://localhost:8080/"
        },
        "id": "frG1rRoc_YZn",
        "outputId": "d52d544b-bea1-418d-c709-a6aade86bced"
      },
      "execution_count": 836,
      "outputs": [
        {
          "output_type": "execute_result",
          "data": {
            "text/plain": [
              "array([[1980],\n",
              "       [1981],\n",
              "       [1982],\n",
              "       [1983],\n",
              "       [1984],\n",
              "       [1985]])"
            ]
          },
          "metadata": {},
          "execution_count": 836
        }
      ]
    },
    {
      "cell_type": "code",
      "source": [
        "X_new_des_mat = np.concatenate([np.ones_like(X_new, dtype='int64'), X_new])"
      ],
      "metadata": {
        "id": "pglR9XqS81mx"
      },
      "execution_count": 837,
      "outputs": []
    },
    {
      "cell_type": "code",
      "source": [
        "X_new_des_mat"
      ],
      "metadata": {
        "colab": {
          "base_uri": "https://localhost:8080/"
        },
        "id": "mPTODkOq_EyR",
        "outputId": "9aa10d47-29e5-4a18-8579-03922d88dc2a"
      },
      "execution_count": 838,
      "outputs": [
        {
          "output_type": "execute_result",
          "data": {
            "text/plain": [
              "array([[   1],\n",
              "       [   1],\n",
              "       [   1],\n",
              "       [   1],\n",
              "       [   1],\n",
              "       [   1],\n",
              "       [1980],\n",
              "       [1981],\n",
              "       [1982],\n",
              "       [1983],\n",
              "       [1984],\n",
              "       [1985]])"
            ]
          },
          "metadata": {},
          "execution_count": 838
        }
      ]
    },
    {
      "cell_type": "code",
      "source": [
        "X_new_des_mat = np.reshape(X_new_des_mat, (2,-1)).transpose()"
      ],
      "metadata": {
        "id": "AxEhFrVi_v06"
      },
      "execution_count": 839,
      "outputs": []
    },
    {
      "cell_type": "code",
      "source": [
        "X_new_des_mat"
      ],
      "metadata": {
        "colab": {
          "base_uri": "https://localhost:8080/"
        },
        "id": "QwvaoayhBHBL",
        "outputId": "2918b82d-f2e1-4f2f-9754-274aaaf468e7"
      },
      "execution_count": 840,
      "outputs": [
        {
          "output_type": "execute_result",
          "data": {
            "text/plain": [
              "array([[   1, 1980],\n",
              "       [   1, 1981],\n",
              "       [   1, 1982],\n",
              "       [   1, 1983],\n",
              "       [   1, 1984],\n",
              "       [   1, 1985]])"
            ]
          },
          "metadata": {},
          "execution_count": 840
        }
      ]
    },
    {
      "cell_type": "code",
      "source": [
        "predictions = np.matmul(X_new_des_mat, weights)"
      ],
      "metadata": {
        "id": "-pitRpgb7Ql1"
      },
      "execution_count": 841,
      "outputs": []
    },
    {
      "cell_type": "code",
      "source": [
        "pd.DataFrame(data=predictions, columns=['extent predictions'])"
      ],
      "metadata": {
        "colab": {
          "base_uri": "https://localhost:8080/",
          "height": 238
        },
        "id": "4SLFscaIAQA7",
        "outputId": "76353fe7-1b1d-46eb-b811-933e175b9f6d"
      },
      "execution_count": 843,
      "outputs": [
        {
          "output_type": "execute_result",
          "data": {
            "text/plain": [
              "   extent predictions\n",
              "0           12.447075\n",
              "1           12.394020\n",
              "2           12.340964\n",
              "3           12.287909\n",
              "4           12.234853\n",
              "5           12.181798"
            ],
            "text/html": [
              "\n",
              "  <div id=\"df-8e581fe7-f567-4eef-9239-306b77679960\">\n",
              "    <div class=\"colab-df-container\">\n",
              "      <div>\n",
              "<style scoped>\n",
              "    .dataframe tbody tr th:only-of-type {\n",
              "        vertical-align: middle;\n",
              "    }\n",
              "\n",
              "    .dataframe tbody tr th {\n",
              "        vertical-align: top;\n",
              "    }\n",
              "\n",
              "    .dataframe thead th {\n",
              "        text-align: right;\n",
              "    }\n",
              "</style>\n",
              "<table border=\"1\" class=\"dataframe\">\n",
              "  <thead>\n",
              "    <tr style=\"text-align: right;\">\n",
              "      <th></th>\n",
              "      <th>extent predictions</th>\n",
              "    </tr>\n",
              "  </thead>\n",
              "  <tbody>\n",
              "    <tr>\n",
              "      <th>0</th>\n",
              "      <td>12.447075</td>\n",
              "    </tr>\n",
              "    <tr>\n",
              "      <th>1</th>\n",
              "      <td>12.394020</td>\n",
              "    </tr>\n",
              "    <tr>\n",
              "      <th>2</th>\n",
              "      <td>12.340964</td>\n",
              "    </tr>\n",
              "    <tr>\n",
              "      <th>3</th>\n",
              "      <td>12.287909</td>\n",
              "    </tr>\n",
              "    <tr>\n",
              "      <th>4</th>\n",
              "      <td>12.234853</td>\n",
              "    </tr>\n",
              "    <tr>\n",
              "      <th>5</th>\n",
              "      <td>12.181798</td>\n",
              "    </tr>\n",
              "  </tbody>\n",
              "</table>\n",
              "</div>\n",
              "      <button class=\"colab-df-convert\" onclick=\"convertToInteractive('df-8e581fe7-f567-4eef-9239-306b77679960')\"\n",
              "              title=\"Convert this dataframe to an interactive table.\"\n",
              "              style=\"display:none;\">\n",
              "        \n",
              "  <svg xmlns=\"http://www.w3.org/2000/svg\" height=\"24px\"viewBox=\"0 0 24 24\"\n",
              "       width=\"24px\">\n",
              "    <path d=\"M0 0h24v24H0V0z\" fill=\"none\"/>\n",
              "    <path d=\"M18.56 5.44l.94 2.06.94-2.06 2.06-.94-2.06-.94-.94-2.06-.94 2.06-2.06.94zm-11 1L8.5 8.5l.94-2.06 2.06-.94-2.06-.94L8.5 2.5l-.94 2.06-2.06.94zm10 10l.94 2.06.94-2.06 2.06-.94-2.06-.94-.94-2.06-.94 2.06-2.06.94z\"/><path d=\"M17.41 7.96l-1.37-1.37c-.4-.4-.92-.59-1.43-.59-.52 0-1.04.2-1.43.59L10.3 9.45l-7.72 7.72c-.78.78-.78 2.05 0 2.83L4 21.41c.39.39.9.59 1.41.59.51 0 1.02-.2 1.41-.59l7.78-7.78 2.81-2.81c.8-.78.8-2.07 0-2.86zM5.41 20L4 18.59l7.72-7.72 1.47 1.35L5.41 20z\"/>\n",
              "  </svg>\n",
              "      </button>\n",
              "      \n",
              "  <style>\n",
              "    .colab-df-container {\n",
              "      display:flex;\n",
              "      flex-wrap:wrap;\n",
              "      gap: 12px;\n",
              "    }\n",
              "\n",
              "    .colab-df-convert {\n",
              "      background-color: #E8F0FE;\n",
              "      border: none;\n",
              "      border-radius: 50%;\n",
              "      cursor: pointer;\n",
              "      display: none;\n",
              "      fill: #1967D2;\n",
              "      height: 32px;\n",
              "      padding: 0 0 0 0;\n",
              "      width: 32px;\n",
              "    }\n",
              "\n",
              "    .colab-df-convert:hover {\n",
              "      background-color: #E2EBFA;\n",
              "      box-shadow: 0px 1px 2px rgba(60, 64, 67, 0.3), 0px 1px 3px 1px rgba(60, 64, 67, 0.15);\n",
              "      fill: #174EA6;\n",
              "    }\n",
              "\n",
              "    [theme=dark] .colab-df-convert {\n",
              "      background-color: #3B4455;\n",
              "      fill: #D2E3FC;\n",
              "    }\n",
              "\n",
              "    [theme=dark] .colab-df-convert:hover {\n",
              "      background-color: #434B5C;\n",
              "      box-shadow: 0px 1px 3px 1px rgba(0, 0, 0, 0.15);\n",
              "      filter: drop-shadow(0px 1px 2px rgba(0, 0, 0, 0.3));\n",
              "      fill: #FFFFFF;\n",
              "    }\n",
              "  </style>\n",
              "\n",
              "      <script>\n",
              "        const buttonEl =\n",
              "          document.querySelector('#df-8e581fe7-f567-4eef-9239-306b77679960 button.colab-df-convert');\n",
              "        buttonEl.style.display =\n",
              "          google.colab.kernel.accessAllowed ? 'block' : 'none';\n",
              "\n",
              "        async function convertToInteractive(key) {\n",
              "          const element = document.querySelector('#df-8e581fe7-f567-4eef-9239-306b77679960');\n",
              "          const dataTable =\n",
              "            await google.colab.kernel.invokeFunction('convertToInteractive',\n",
              "                                                     [key], {});\n",
              "          if (!dataTable) return;\n",
              "\n",
              "          const docLinkHtml = 'Like what you see? Visit the ' +\n",
              "            '<a target=\"_blank\" href=https://colab.research.google.com/notebooks/data_table.ipynb>data table notebook</a>'\n",
              "            + ' to learn more about interactive tables.';\n",
              "          element.innerHTML = '';\n",
              "          dataTable['output_type'] = 'display_data';\n",
              "          await google.colab.output.renderOutput(dataTable, element);\n",
              "          const docLink = document.createElement('div');\n",
              "          docLink.innerHTML = docLinkHtml;\n",
              "          element.appendChild(docLink);\n",
              "        }\n",
              "      </script>\n",
              "    </div>\n",
              "  </div>\n",
              "  "
            ]
          },
          "metadata": {},
          "execution_count": 843
        }
      ]
    },
    {
      "cell_type": "markdown",
      "source": [
        "## Gradient Descent Implementation"
      ],
      "metadata": {
        "id": "sOkNADQtM34b"
      }
    },
    {
      "cell_type": "markdown",
      "source": [
        "### Model\n",
        "\n",
        "$ \\hat{y} =  \\theta_0 + \\theta_1x  $\n",
        "\n",
        "\n",
        "### Loss Function\n",
        "\n",
        "**MSE Loss**\n",
        "\n",
        "$ L(y, \\hat{y}) = 1/N \\sum_{i=1}^{N} (y_i - \\hat{y}_i)^2 $\n",
        "\n",
        "$ L(y,x,\\theta) = 1/N \\sum_{i=1}^{N} (y_i - (\\theta_0 + \\theta_1x_i))^2 $\n",
        "\n",
        "**L2 Loss**\n",
        "\n",
        "\n",
        "$ L(\\theta) = 1/2N \\sum_{i=1}^{N} (y_i  - \\hat{y}_i)^2 + λ/2N \\sum_{j=1}^{P}{\\theta_j}^2 $\n"
      ],
      "metadata": {
        "id": "KIA0ljL36A8l"
      }
    },
    {
      "cell_type": "code",
      "source": [
        "# method to compute mse loss\n",
        "def compute_loss(X, y, weights):\n",
        "  n = np.shape(X)[0]\n",
        "  error = y - predict(X, weights)\n",
        "\n",
        "  weights = weights.reshape(-1,1)\n",
        "  loss = np.sum(error ** 2) / n\n",
        "  return loss"
      ],
      "metadata": {
        "id": "KfOD54Vu5fmk"
      },
      "execution_count": 1063,
      "outputs": []
    },
    {
      "cell_type": "code",
      "source": [
        "def compute_l2_loss(X, y, weights, lambda_value):\n",
        "  # regularisation term\n",
        "  n = int(np.shape(X)[0])\n",
        "  reg_term =  (lambda_value / 2 * n) * np.sum(np.matmul(weights, weights.T))\n",
        "  \n",
        "  error = y - predict(X, weights)\n",
        "\n",
        "  #weights = weights.reshape(-1,1)\n",
        "  loss = np.sum(error ** 2) / (2 * n) + reg_term\n",
        "  return loss"
      ],
      "metadata": {
        "id": "V2p3LbwZD7GD"
      },
      "execution_count": 1064,
      "outputs": []
    },
    {
      "cell_type": "markdown",
      "source": [
        "### Derivative computation\n",
        "\n",
        "Calculation of partial derivatives for every parameter:\n",
        "\n",
        "$ ∂L / ∂\\theta_0 =  -2/N \\sum_{i=1}^{N} (y_i - (\\theta_0 + \\theta_1x_i)) $\n",
        "\n",
        "$ ∂L / ∂\\theta_1 =  -2/N \\sum_{i=1}^{N} x_i(y_i - (\\theta_0 + \\theta_1x_i)) $\n",
        "\n",
        "**Derivative of L2 loss**\n",
        "\n",
        "\n",
        "$ ∂L(\\theta) / ∂θ_0 = -1/N \\sum_{i=1}^{N} (y_i - (\\theta_0 + \\theta_1x_i)) + λ/N \\sum_{j=1}^{P} \\theta_j $"
      ],
      "metadata": {
        "id": "n6Vl4CN6qreG"
      }
    },
    {
      "cell_type": "code",
      "source": [
        "# method to compute gradients of subsets of all observations/batches\n",
        "def compute_gradient(X, error, weights, lambda_value):\n",
        "  n = len(X)\n",
        "  gradient = (-2 / n) * np.sum(np.matmul(X.T, error))\n",
        "  #gradient = (-1 / n) * (np.sum(np.matmul(X[:, -1].T,error)) + (lambda_value * weights))\n",
        "  #gradient = gradient.reshape(len(np.array(gradient)), -1)\n",
        "  return gradient"
      ],
      "metadata": {
        "id": "yTUxAOJCthvw"
      },
      "execution_count": 1433,
      "outputs": []
    },
    {
      "cell_type": "code",
      "source": [
        "# to find optimum weights, we need an update method\n",
        "def update_weights(weights, step_size):\n",
        "    weights = weights - step_size\n",
        "    return weights"
      ],
      "metadata": {
        "id": "xyRr89QTnaNE"
      },
      "execution_count": 1248,
      "outputs": []
    },
    {
      "cell_type": "code",
      "source": [
        "# method for making predictions\n",
        "def predict(X, weights):\n",
        "  predictions = np.matmul(X, weights)\n",
        "  return predictions"
      ],
      "metadata": {
        "id": "u0LwtFpqlQOF"
      },
      "execution_count": 1552,
      "outputs": []
    },
    {
      "cell_type": "code",
      "source": [
        "# method to split data into training and testing set\n",
        "def train_test_split(X,y,split):\n",
        "  X_rand = np.random.rand(X.shape[0]) \n",
        "  y_rand = np.random.rand(y.shape[0])\n",
        "\n",
        "  X_split = X_rand < np.percentile(X_rand, split)\n",
        "  y_split = y_rand < np.percentile(y_rand, split)\n",
        "\n",
        "  X_train = X[X_split]\n",
        "  X_test = X[~ X_split]\n",
        "  y_train = y[y_split]\n",
        "  y_test = y[~ y_split]\n",
        "\n",
        "  return X_train, X_test, y_train, y_test"
      ],
      "metadata": {
        "id": "9EuT0Hbu4itv"
      },
      "execution_count": 1105,
      "outputs": []
    },
    {
      "cell_type": "code",
      "source": [
        "# Performing stochastic gradient descent\n",
        "def gradient_descent(X, y, max_iterations, batch_size, lambda_value, learning_rate, tolerance):\n",
        "  # X : Input matrix with added bias units\n",
        "  # y: target vector\n",
        "  # Hyper parameters\n",
        "  # max_iterations : maximum number of iterations\n",
        "  # batch_size : mini batch size \n",
        "  # lambda_value : regularisation weight\n",
        "  # learning_rate : size of steps to be raken in a direction\n",
        "  # tolerance : fixed constant to be checked for convergance\n",
        "  \n",
        "  # number of observations and features\n",
        "  nrows = X.shape[0]\n",
        "  ncols = X.shape[1]\n",
        "  \n",
        "  # randomized initialization for weights\n",
        "  initial_weights = np.array(np.random.randint(low=-1, high=100, size=(ncols,1)), dtype='float64')\n",
        "  #initial_weights = np.array(np.random.normal(scale=ncols, size=(ncols,1)).astype('float64'))\n",
        "\n",
        "  loss_history = np.zeros(max_iterations)\n",
        "  theta_history = np.zeros((max_iterations,ncols))\n",
        "\n",
        "  weights = np.array(initial_weights)\n",
        "  current_loss = None\n",
        "  epoch = 0\n",
        "  converged = False\n",
        "  while not converged and epoch < max_iterations:\n",
        "  #for iter in range(max_iterations):\n",
        "    # for each iteration\n",
        "    # we calculate gradient of loss function wrt each parameter\n",
        "    # calculate current loss\n",
        "    # update weights for each feature and repeat until convergence or until we have reached max_iterations.\n",
        "\n",
        "    gradient_sum_squares = 0\n",
        "    # algorithm requires randomly selected observations for each mini-batch\n",
        "    # so we neeed to shuffle X and y to generate random samples\n",
        "    Xy = np.concatenate([X, y], axis=1)\n",
        "    np.random.shuffle(Xy)\n",
        "    X, y = Xy[:,:-1], Xy[:,-1:]\n",
        "   \n",
        "    for i in range(int(np.ceil(nrows/batch_size))):\n",
        "      start, stop = batch_size*i, np.min([batch_size*(i+1), nrows])\n",
        "      # defining mini-batches\n",
        "      X_batch, y_batch = X[start:stop], y[start:stop]\n",
        "\n",
        "      # calculate error using current weights\n",
        "      error = y_batch - predict(X_batch, weights)\n",
        "      # computing gradients\n",
        "      gradient = compute_gradient(X_batch, error, weights, lambda_value) \n",
        "      gradient_sum_squares = gradient_sum_squares + (gradient ** 2)\n",
        "      # calculate step size to move in negative gradient direction\n",
        "      step_size = learning_rate * gradient\n",
        "      # update weights\n",
        "      weights = update_weights(weights, step_size)\n",
        "      # calculate loss using current weights\n",
        "      error = y_batch - predict(X_batch, weights)\n",
        "      current_loss = compute_l2_loss(X_batch, y_batch, weights, lambda_value)\n",
        "      # logging current model parameters and loss\n",
        "      loss_history[epoch] = current_loss\n",
        "      theta_history[epoch, :] = weights.T\n",
        "      # Checking for convergence\n",
        "      gradient_magnitude = np.sqrt(gradient_sum_squares)\n",
        "      # stop when magnitude of gradient vector is smaller than tolerance\n",
        "      if np.all(np.abs(gradient_magnitude) <= tolerance):\n",
        "        converged = True\n",
        "      # plot training and log progress\n",
        "      if epoch % 200 == 0:\n",
        "        print(f\"Batch: {i} | Epoch: {epoch} ----> Loss: {current_loss}\")\n",
        "    epoch +=  1\n",
        "  # return learned parameters\n",
        "  return weights, loss_history, theta_history\n"
      ],
      "metadata": {
        "id": "kCs9iK4QSjRm"
      },
      "execution_count": 1515,
      "outputs": []
    },
    {
      "cell_type": "code",
      "source": [
        "# treat 'year' as independent/predictor variable and 'extent' as target variable\n",
        "X = np.asarray(seaice_df.loc[:,'year'])\n",
        "y = np.asarray(seaice_df.loc[:,'extent'])"
      ],
      "metadata": {
        "id": "IhW5bBVS4wf6"
      },
      "execution_count": 1469,
      "outputs": []
    },
    {
      "cell_type": "code",
      "source": [
        "# Reshaping X (input matrix) to include bias term\n",
        "X_data = np.reshape(np.ravel(X), (X.size,1))\n",
        "X_data = np.concatenate([np.ones_like(X_data, dtype='float64'), X_data])\n",
        "X_data = np.reshape(X_data, (2,-1)).transpose()\n",
        "# Reshaping y (target vector)\n",
        "y_data = np.reshape(np.ravel(y), (y.size,1))"
      ],
      "metadata": {
        "id": "XsQF1EBEiUqO"
      },
      "execution_count": 1484,
      "outputs": []
    },
    {
      "cell_type": "code",
      "source": [
        "estimated_weights, loss_history, theta_history = gradient_descent(X_data, y_data, max_iterations=500, batch_size=22, lambda_value=0.001, learning_rate=5e-9, tolerance=1e-2)"
      ],
      "metadata": {
        "colab": {
          "base_uri": "https://localhost:8080/"
        },
        "id": "9wYbu3oyiSyr",
        "outputId": "3d2f97a0-5021-4657-f62d-cb4f7ba4a294"
      },
      "execution_count": 1592,
      "outputs": [
        {
          "output_type": "stream",
          "name": "stdout",
          "text": [
            "Batch: 0 | Epoch: 0 ----> Loss: 1349918231.6476781\n",
            "Batch: 1 | Epoch: 0 ----> Loss: 1239825090.1453674\n",
            "Batch: 2 | Epoch: 0 ----> Loss: 1135857470.6956599\n",
            "Batch: 0 | Epoch: 200 ----> Loss: 43.657672099312514\n",
            "Batch: 1 | Epoch: 200 ----> Loss: 43.685080358789776\n",
            "Batch: 2 | Epoch: 200 ----> Loss: 2.14159886394254\n",
            "Batch: 0 | Epoch: 400 ----> Loss: 43.67899623716619\n",
            "Batch: 1 | Epoch: 400 ----> Loss: 43.661420082108165\n",
            "Batch: 2 | Epoch: 400 ----> Loss: 2.2430917617147466\n"
          ]
        }
      ]
    },
    {
      "cell_type": "code",
      "source": [
        "estimated_weights"
      ],
      "metadata": {
        "colab": {
          "base_uri": "https://localhost:8080/"
        },
        "id": "wmwOFwULXNS-",
        "outputId": "4683fc97-f19c-4a7f-dd21-895e80b08c5f"
      },
      "execution_count": 1593,
      "outputs": [
        {
          "output_type": "execute_result",
          "data": {
            "text/plain": [
              "array([[ 6.29741955e+01],\n",
              "       [-2.58045123e-02]])"
            ]
          },
          "metadata": {},
          "execution_count": 1593
        }
      ]
    },
    {
      "cell_type": "code",
      "source": [
        "predictions = predict(X_data, estimated_weights)"
      ],
      "metadata": {
        "id": "Qkz0W5Wrk8Cq"
      },
      "execution_count": 1594,
      "outputs": []
    },
    {
      "cell_type": "code",
      "source": [
        "pd.DataFrame(data=predictions,columns=['Predictions']).head()"
      ],
      "metadata": {
        "colab": {
          "base_uri": "https://localhost:8080/",
          "height": 206
        },
        "id": "0CRPwwOaR7Cl",
        "outputId": "3118f63d-339e-4d02-c645-90e59edb9db2"
      },
      "execution_count": 1595,
      "outputs": [
        {
          "output_type": "execute_result",
          "data": {
            "text/plain": [
              "   Predictions\n",
              "0    11.932870\n",
              "1    11.907066\n",
              "2    11.881261\n",
              "3    11.855457\n",
              "4    11.829652"
            ],
            "text/html": [
              "\n",
              "  <div id=\"df-ccd19a54-1541-4b01-bbf5-d34083a31b05\">\n",
              "    <div class=\"colab-df-container\">\n",
              "      <div>\n",
              "<style scoped>\n",
              "    .dataframe tbody tr th:only-of-type {\n",
              "        vertical-align: middle;\n",
              "    }\n",
              "\n",
              "    .dataframe tbody tr th {\n",
              "        vertical-align: top;\n",
              "    }\n",
              "\n",
              "    .dataframe thead th {\n",
              "        text-align: right;\n",
              "    }\n",
              "</style>\n",
              "<table border=\"1\" class=\"dataframe\">\n",
              "  <thead>\n",
              "    <tr style=\"text-align: right;\">\n",
              "      <th></th>\n",
              "      <th>Predictions</th>\n",
              "    </tr>\n",
              "  </thead>\n",
              "  <tbody>\n",
              "    <tr>\n",
              "      <th>0</th>\n",
              "      <td>11.932870</td>\n",
              "    </tr>\n",
              "    <tr>\n",
              "      <th>1</th>\n",
              "      <td>11.907066</td>\n",
              "    </tr>\n",
              "    <tr>\n",
              "      <th>2</th>\n",
              "      <td>11.881261</td>\n",
              "    </tr>\n",
              "    <tr>\n",
              "      <th>3</th>\n",
              "      <td>11.855457</td>\n",
              "    </tr>\n",
              "    <tr>\n",
              "      <th>4</th>\n",
              "      <td>11.829652</td>\n",
              "    </tr>\n",
              "  </tbody>\n",
              "</table>\n",
              "</div>\n",
              "      <button class=\"colab-df-convert\" onclick=\"convertToInteractive('df-ccd19a54-1541-4b01-bbf5-d34083a31b05')\"\n",
              "              title=\"Convert this dataframe to an interactive table.\"\n",
              "              style=\"display:none;\">\n",
              "        \n",
              "  <svg xmlns=\"http://www.w3.org/2000/svg\" height=\"24px\"viewBox=\"0 0 24 24\"\n",
              "       width=\"24px\">\n",
              "    <path d=\"M0 0h24v24H0V0z\" fill=\"none\"/>\n",
              "    <path d=\"M18.56 5.44l.94 2.06.94-2.06 2.06-.94-2.06-.94-.94-2.06-.94 2.06-2.06.94zm-11 1L8.5 8.5l.94-2.06 2.06-.94-2.06-.94L8.5 2.5l-.94 2.06-2.06.94zm10 10l.94 2.06.94-2.06 2.06-.94-2.06-.94-.94-2.06-.94 2.06-2.06.94z\"/><path d=\"M17.41 7.96l-1.37-1.37c-.4-.4-.92-.59-1.43-.59-.52 0-1.04.2-1.43.59L10.3 9.45l-7.72 7.72c-.78.78-.78 2.05 0 2.83L4 21.41c.39.39.9.59 1.41.59.51 0 1.02-.2 1.41-.59l7.78-7.78 2.81-2.81c.8-.78.8-2.07 0-2.86zM5.41 20L4 18.59l7.72-7.72 1.47 1.35L5.41 20z\"/>\n",
              "  </svg>\n",
              "      </button>\n",
              "      \n",
              "  <style>\n",
              "    .colab-df-container {\n",
              "      display:flex;\n",
              "      flex-wrap:wrap;\n",
              "      gap: 12px;\n",
              "    }\n",
              "\n",
              "    .colab-df-convert {\n",
              "      background-color: #E8F0FE;\n",
              "      border: none;\n",
              "      border-radius: 50%;\n",
              "      cursor: pointer;\n",
              "      display: none;\n",
              "      fill: #1967D2;\n",
              "      height: 32px;\n",
              "      padding: 0 0 0 0;\n",
              "      width: 32px;\n",
              "    }\n",
              "\n",
              "    .colab-df-convert:hover {\n",
              "      background-color: #E2EBFA;\n",
              "      box-shadow: 0px 1px 2px rgba(60, 64, 67, 0.3), 0px 1px 3px 1px rgba(60, 64, 67, 0.15);\n",
              "      fill: #174EA6;\n",
              "    }\n",
              "\n",
              "    [theme=dark] .colab-df-convert {\n",
              "      background-color: #3B4455;\n",
              "      fill: #D2E3FC;\n",
              "    }\n",
              "\n",
              "    [theme=dark] .colab-df-convert:hover {\n",
              "      background-color: #434B5C;\n",
              "      box-shadow: 0px 1px 3px 1px rgba(0, 0, 0, 0.15);\n",
              "      filter: drop-shadow(0px 1px 2px rgba(0, 0, 0, 0.3));\n",
              "      fill: #FFFFFF;\n",
              "    }\n",
              "  </style>\n",
              "\n",
              "      <script>\n",
              "        const buttonEl =\n",
              "          document.querySelector('#df-ccd19a54-1541-4b01-bbf5-d34083a31b05 button.colab-df-convert');\n",
              "        buttonEl.style.display =\n",
              "          google.colab.kernel.accessAllowed ? 'block' : 'none';\n",
              "\n",
              "        async function convertToInteractive(key) {\n",
              "          const element = document.querySelector('#df-ccd19a54-1541-4b01-bbf5-d34083a31b05');\n",
              "          const dataTable =\n",
              "            await google.colab.kernel.invokeFunction('convertToInteractive',\n",
              "                                                     [key], {});\n",
              "          if (!dataTable) return;\n",
              "\n",
              "          const docLinkHtml = 'Like what you see? Visit the ' +\n",
              "            '<a target=\"_blank\" href=https://colab.research.google.com/notebooks/data_table.ipynb>data table notebook</a>'\n",
              "            + ' to learn more about interactive tables.';\n",
              "          element.innerHTML = '';\n",
              "          dataTable['output_type'] = 'display_data';\n",
              "          await google.colab.output.renderOutput(dataTable, element);\n",
              "          const docLink = document.createElement('div');\n",
              "          docLink.innerHTML = docLinkHtml;\n",
              "          element.appendChild(docLink);\n",
              "        }\n",
              "      </script>\n",
              "    </div>\n",
              "  </div>\n",
              "  "
            ]
          },
          "metadata": {},
          "execution_count": 1595
        }
      ]
    },
    {
      "cell_type": "code",
      "source": [
        "plot_model(X, y, predictions)"
      ],
      "metadata": {
        "colab": {
          "base_uri": "https://localhost:8080/",
          "height": 372
        },
        "id": "7sX79s1orcvq",
        "outputId": "a5bbab2f-f004-43aa-962a-fc3110d1758c"
      },
      "execution_count": 1596,
      "outputs": [
        {
          "output_type": "display_data",
          "data": {
            "text/plain": [
              "<Figure size 360x360 with 1 Axes>"
            ],
            "image/png": "[encoded data removed]"
          },
          "metadata": {}
        }
      ]
    },
    {
      "cell_type": "code",
      "source": [
        "# Visualizing change in loss function and weights wrt epochs\n",
        "def plot_gradient_descent(theta_history, loss_history):\n",
        "  fig, ax1 = plt.subplots()\n",
        "\n",
        "  # plot thetas over time\n",
        "  color='tab:blue'\n",
        "  ax1.plot(theta_history[:,0], label='$\\\\theta_{0}$', linestyle='--', color=color)\n",
        "  ax1.plot(theta_history[:,1], label='$\\\\theta_{1}$', linestyle='-', color=color)\n",
        "  # ax1.legend()\n",
        "  ax1.set_xlabel('Iterations'); ax1.set_ylabel('$\\\\theta$', color=color);\n",
        "  ax1.tick_params(axis='y', labelcolor=color)\n",
        "\n",
        "  # plot loss function over time\n",
        "  color='tab:red'\n",
        "  ax2 = ax1.twinx()\n",
        "  ax2.plot(loss_history, label='Loss function', color=color)\n",
        "  ax2.set_title('Values of $\\\\theta$ and $L(\\\\theta)$ over iterations')\n",
        "  ax2.set_ylabel('Loss: $L(\\\\theta)$', color=color)\n",
        "  ax1.tick_params(axis='y', labelcolor=color)\n",
        "\n",
        "  # ax2.legend();\n",
        "  fig.legend();"
      ],
      "metadata": {
        "id": "mlf3DC0jLsfB"
      },
      "execution_count": 1570,
      "outputs": []
    },
    {
      "cell_type": "code",
      "source": [
        "plot_gradient_descent(theta_history, loss_history)"
      ],
      "metadata": {
        "colab": {
          "base_uri": "https://localhost:8080/",
          "height": 331
        },
        "id": "YCkvXXgcMFeU",
        "outputId": "44e42921-5ad7-4398-f064-eddd2086a5d1"
      },
      "execution_count": 1597,
      "outputs": [
        {
          "output_type": "display_data",
          "data": {
            "text/plain": [
              "<Figure size 432x288 with 2 Axes>"
            ],
            "image/png": "[encoded data removed]"
          },
          "metadata": {}
        }
      ]
    }
  ]
}