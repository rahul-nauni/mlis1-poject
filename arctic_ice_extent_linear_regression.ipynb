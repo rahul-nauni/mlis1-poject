{
  "nbformat": 4,
  "nbformat_minor": 0,
  "metadata": {
    "colab": {
      "provenance": [],
      "mount_file_id": "1FKZBhK7d7tWGVZYFwyNi7groMB8hDxYZ",
      "authorship_tag": "ABX9TyNu6MTBczoHEzj46XWPUy3C",
      "include_colab_link": true
    },
    "kernelspec": {
      "name": "python3",
      "display_name": "Python 3"
    },
    "language_info": {
      "name": "python"
    }
  },
  "cells": [
    {
      "cell_type": "markdown",
      "metadata": {
        "id": "view-in-github",
        "colab_type": "text"
      },
      "source": [
        "<a href=\"https://colab.research.google.com/github/rahul-nauni/mlis1-poject/blob/main/arctic_ice_extent_linear_regression.ipynb\" target=\"_parent\"><img src=\"https://colab.research.google.com/assets/colab-badge.svg\" alt=\"Open In Colab\"/></a>"
      ]
    },
    {
      "cell_type": "code",
      "execution_count": null,
      "metadata": {
        "id": "EkYTpWH-_lJi"
      },
      "outputs": [],
      "source": [
        "# importing libraries\n",
        "import numpy as np\n",
        "import pandas as pd\n",
        "import plotly.express as px\n",
        "import matplotlib.pyplot as plt\n",
        "%matplotlib inline\n",
        "plt.style.use('ggplot')"
      ]
    },
    {
      "cell_type": "code",
      "source": [
        "columns = ['year', ' extent']\n",
        "columns_type = {'year': 'int64', 'extent': 'float64'}"
      ],
      "metadata": {
        "id": "BgRXF9qT2xGV"
      },
      "execution_count": null,
      "outputs": []
    },
    {
      "cell_type": "code",
      "source": [
        "df = pd.read_csv(\"/content/drive/MyDrive/Colab Notebooks/N_01_extent_v3.0.csv\",na_values = -9999.00,usecols=columns, dtype=columns_type)"
      ],
      "metadata": {
        "id": "S7up1qvoP--2"
      },
      "execution_count": null,
      "outputs": []
    },
    {
      "cell_type": "code",
      "source": [
        "df.head(10)"
      ],
      "metadata": {
        "colab": {
          "base_uri": "https://localhost:8080/",
          "height": 363
        },
        "id": "RyCl7XbFMhKA",
        "outputId": "21a65a4a-148d-429e-a846-2b5193b91651"
      },
      "execution_count": null,
      "outputs": [
        {
          "output_type": "execute_result",
          "data": {
            "text/plain": [
              "   year   extent\n",
              "0  1979    15.41\n",
              "1  1980    14.86\n",
              "2  1981    14.91\n",
              "3  1982    15.18\n",
              "4  1983    14.94\n",
              "5  1984    14.47\n",
              "6  1985    14.72\n",
              "7  1986    14.89\n",
              "8  1987    14.97\n",
              "9  1988      NaN"
            ],
            "text/html": [
              "\n",
              "  <div id=\"df-6a3e2148-e964-4cd0-afe3-e49813e3be6e\">\n",
              "    <div class=\"colab-df-container\">\n",
              "      <div>\n",
              "<style scoped>\n",
              "    .dataframe tbody tr th:only-of-type {\n",
              "        vertical-align: middle;\n",
              "    }\n",
              "\n",
              "    .dataframe tbody tr th {\n",
              "        vertical-align: top;\n",
              "    }\n",
              "\n",
              "    .dataframe thead th {\n",
              "        text-align: right;\n",
              "    }\n",
              "</style>\n",
              "<table border=\"1\" class=\"dataframe\">\n",
              "  <thead>\n",
              "    <tr style=\"text-align: right;\">\n",
              "      <th></th>\n",
              "      <th>year</th>\n",
              "      <th>extent</th>\n",
              "    </tr>\n",
              "  </thead>\n",
              "  <tbody>\n",
              "    <tr>\n",
              "      <th>0</th>\n",
              "      <td>1979</td>\n",
              "      <td>15.41</td>\n",
              "    </tr>\n",
              "    <tr>\n",
              "      <th>1</th>\n",
              "      <td>1980</td>\n",
              "      <td>14.86</td>\n",
              "    </tr>\n",
              "    <tr>\n",
              "      <th>2</th>\n",
              "      <td>1981</td>\n",
              "      <td>14.91</td>\n",
              "    </tr>\n",
              "    <tr>\n",
              "      <th>3</th>\n",
              "      <td>1982</td>\n",
              "      <td>15.18</td>\n",
              "    </tr>\n",
              "    <tr>\n",
              "      <th>4</th>\n",
              "      <td>1983</td>\n",
              "      <td>14.94</td>\n",
              "    </tr>\n",
              "    <tr>\n",
              "      <th>5</th>\n",
              "      <td>1984</td>\n",
              "      <td>14.47</td>\n",
              "    </tr>\n",
              "    <tr>\n",
              "      <th>6</th>\n",
              "      <td>1985</td>\n",
              "      <td>14.72</td>\n",
              "    </tr>\n",
              "    <tr>\n",
              "      <th>7</th>\n",
              "      <td>1986</td>\n",
              "      <td>14.89</td>\n",
              "    </tr>\n",
              "    <tr>\n",
              "      <th>8</th>\n",
              "      <td>1987</td>\n",
              "      <td>14.97</td>\n",
              "    </tr>\n",
              "    <tr>\n",
              "      <th>9</th>\n",
              "      <td>1988</td>\n",
              "      <td>NaN</td>\n",
              "    </tr>\n",
              "  </tbody>\n",
              "</table>\n",
              "</div>\n",
              "      <button class=\"colab-df-convert\" onclick=\"convertToInteractive('df-6a3e2148-e964-4cd0-afe3-e49813e3be6e')\"\n",
              "              title=\"Convert this dataframe to an interactive table.\"\n",
              "              style=\"display:none;\">\n",
              "        \n",
              "  <svg xmlns=\"http://www.w3.org/2000/svg\" height=\"24px\"viewBox=\"0 0 24 24\"\n",
              "       width=\"24px\">\n",
              "    <path d=\"M0 0h24v24H0V0z\" fill=\"none\"/>\n",
              "    <path d=\"M18.56 5.44l.94 2.06.94-2.06 2.06-.94-2.06-.94-.94-2.06-.94 2.06-2.06.94zm-11 1L8.5 8.5l.94-2.06 2.06-.94-2.06-.94L8.5 2.5l-.94 2.06-2.06.94zm10 10l.94 2.06.94-2.06 2.06-.94-2.06-.94-.94-2.06-.94 2.06-2.06.94z\"/><path d=\"M17.41 7.96l-1.37-1.37c-.4-.4-.92-.59-1.43-.59-.52 0-1.04.2-1.43.59L10.3 9.45l-7.72 7.72c-.78.78-.78 2.05 0 2.83L4 21.41c.39.39.9.59 1.41.59.51 0 1.02-.2 1.41-.59l7.78-7.78 2.81-2.81c.8-.78.8-2.07 0-2.86zM5.41 20L4 18.59l7.72-7.72 1.47 1.35L5.41 20z\"/>\n",
              "  </svg>\n",
              "      </button>\n",
              "      \n",
              "  <style>\n",
              "    .colab-df-container {\n",
              "      display:flex;\n",
              "      flex-wrap:wrap;\n",
              "      gap: 12px;\n",
              "    }\n",
              "\n",
              "    .colab-df-convert {\n",
              "      background-color: #E8F0FE;\n",
              "      border: none;\n",
              "      border-radius: 50%;\n",
              "      cursor: pointer;\n",
              "      display: none;\n",
              "      fill: #1967D2;\n",
              "      height: 32px;\n",
              "      padding: 0 0 0 0;\n",
              "      width: 32px;\n",
              "    }\n",
              "\n",
              "    .colab-df-convert:hover {\n",
              "      background-color: #E2EBFA;\n",
              "      box-shadow: 0px 1px 2px rgba(60, 64, 67, 0.3), 0px 1px 3px 1px rgba(60, 64, 67, 0.15);\n",
              "      fill: #174EA6;\n",
              "    }\n",
              "\n",
              "    [theme=dark] .colab-df-convert {\n",
              "      background-color: #3B4455;\n",
              "      fill: #D2E3FC;\n",
              "    }\n",
              "\n",
              "    [theme=dark] .colab-df-convert:hover {\n",
              "      background-color: #434B5C;\n",
              "      box-shadow: 0px 1px 3px 1px rgba(0, 0, 0, 0.15);\n",
              "      filter: drop-shadow(0px 1px 2px rgba(0, 0, 0, 0.3));\n",
              "      fill: #FFFFFF;\n",
              "    }\n",
              "  </style>\n",
              "\n",
              "      <script>\n",
              "        const buttonEl =\n",
              "          document.querySelector('#df-6a3e2148-e964-4cd0-afe3-e49813e3be6e button.colab-df-convert');\n",
              "        buttonEl.style.display =\n",
              "          google.colab.kernel.accessAllowed ? 'block' : 'none';\n",
              "\n",
              "        async function convertToInteractive(key) {\n",
              "          const element = document.querySelector('#df-6a3e2148-e964-4cd0-afe3-e49813e3be6e');\n",
              "          const dataTable =\n",
              "            await google.colab.kernel.invokeFunction('convertToInteractive',\n",
              "                                                     [key], {});\n",
              "          if (!dataTable) return;\n",
              "\n",
              "          const docLinkHtml = 'Like what you see? Visit the ' +\n",
              "            '<a target=\"_blank\" href=https://colab.research.google.com/notebooks/data_table.ipynb>data table notebook</a>'\n",
              "            + ' to learn more about interactive tables.';\n",
              "          element.innerHTML = '';\n",
              "          dataTable['output_type'] = 'display_data';\n",
              "          await google.colab.output.renderOutput(dataTable, element);\n",
              "          const docLink = document.createElement('div');\n",
              "          docLink.innerHTML = docLinkHtml;\n",
              "          element.appendChild(docLink);\n",
              "        }\n",
              "      </script>\n",
              "    </div>\n",
              "  </div>\n",
              "  "
            ]
          },
          "metadata": {},
          "execution_count": 200
        }
      ]
    },
    {
      "cell_type": "code",
      "source": [
        "df.info()"
      ],
      "metadata": {
        "colab": {
          "base_uri": "https://localhost:8080/"
        },
        "id": "SG67cAOk4VxK",
        "outputId": "e1ccb656-7914-472d-fdc2-b3aedb1327da"
      },
      "execution_count": null,
      "outputs": [
        {
          "output_type": "stream",
          "name": "stdout",
          "text": [
            "<class 'pandas.core.frame.DataFrame'>\n",
            "RangeIndex: 44 entries, 0 to 43\n",
            "Data columns (total 2 columns):\n",
            " #   Column   Non-Null Count  Dtype  \n",
            "---  ------   --------------  -----  \n",
            " 0   year     44 non-null     int64  \n",
            " 1    extent  43 non-null     float64\n",
            "dtypes: float64(1), int64(1)\n",
            "memory usage: 832.0 bytes\n"
          ]
        }
      ]
    },
    {
      "cell_type": "code",
      "source": [
        "# remove special character from column names\n",
        "df.columns = df.columns.str.replace(' ', '')"
      ],
      "metadata": {
        "id": "F2HTRBZH4V32"
      },
      "execution_count": null,
      "outputs": []
    },
    {
      "cell_type": "code",
      "source": [
        "np.mean(df.loc[:, 'extent'])"
      ],
      "metadata": {
        "colab": {
          "base_uri": "https://localhost:8080/"
        },
        "id": "buQnkzQNNQLm",
        "outputId": "0ddea2c2-8f95-4b56-81d1-d1513fe08fe5"
      },
      "execution_count": null,
      "outputs": [
        {
          "output_type": "execute_result",
          "data": {
            "text/plain": [
              "14.207441860465115"
            ]
          },
          "metadata": {},
          "execution_count": 202
        }
      ]
    },
    {
      "cell_type": "code",
      "source": [
        "def impute_nan(df):\n",
        "  for col in df.columns:\n",
        "    df.loc[:, col] = df.loc[:,col].fillna(round(np.mean(df.loc[:, col]),2))"
      ],
      "metadata": {
        "id": "3axyiIwaC6QX"
      },
      "execution_count": null,
      "outputs": []
    },
    {
      "cell_type": "code",
      "source": [
        "impute_nan(df)"
      ],
      "metadata": {
        "id": "M3ArF44OOktA"
      },
      "execution_count": null,
      "outputs": []
    },
    {
      "cell_type": "code",
      "source": [
        "# treat 'year' as independent/predictor variable and 'extent' as target variable\n",
        "X = df.loc[:,'year']\n",
        "y = df.loc[:,'extent']"
      ],
      "metadata": {
        "id": "yioFyEosL0Yj"
      },
      "execution_count": null,
      "outputs": []
    },
    {
      "cell_type": "code",
      "source": [
        "X"
      ],
      "metadata": {
        "colab": {
          "base_uri": "https://localhost:8080/"
        },
        "id": "z0j8xRiUnOcN",
        "outputId": "ffb33e9d-de22-40e4-fae5-e47134bcf676"
      },
      "execution_count": null,
      "outputs": [
        {
          "output_type": "execute_result",
          "data": {
            "text/plain": [
              "0     1979\n",
              "1     1980\n",
              "2     1981\n",
              "3     1982\n",
              "4     1983\n",
              "5     1984\n",
              "6     1985\n",
              "7     1986\n",
              "8     1987\n",
              "9     1988\n",
              "10    1989\n",
              "11    1990\n",
              "12    1991\n",
              "13    1992\n",
              "14    1993\n",
              "15    1994\n",
              "16    1995\n",
              "17    1996\n",
              "18    1997\n",
              "19    1998\n",
              "20    1999\n",
              "21    2000\n",
              "22    2001\n",
              "23    2002\n",
              "24    2003\n",
              "25    2004\n",
              "26    2005\n",
              "27    2006\n",
              "28    2007\n",
              "29    2008\n",
              "30    2009\n",
              "31    2010\n",
              "32    2011\n",
              "33    2012\n",
              "34    2013\n",
              "35    2014\n",
              "36    2015\n",
              "37    2016\n",
              "38    2017\n",
              "39    2018\n",
              "40    2019\n",
              "41    2020\n",
              "42    2021\n",
              "43    2022\n",
              "Name: year, dtype: int64"
            ]
          },
          "metadata": {},
          "execution_count": 214
        }
      ]
    },
    {
      "cell_type": "code",
      "source": [
        "X.shape"
      ],
      "metadata": {
        "colab": {
          "base_uri": "https://localhost:8080/"
        },
        "id": "QWexnbcZ0Hlm",
        "outputId": "8f1b9f96-766b-422a-a208-b5930e212843"
      },
      "execution_count": null,
      "outputs": [
        {
          "output_type": "execute_result",
          "data": {
            "text/plain": [
              "(44,)"
            ]
          },
          "metadata": {},
          "execution_count": 115
        }
      ]
    },
    {
      "cell_type": "code",
      "source": [
        "# reshaping X \n",
        "X = np.reshape(np.ravel(X), (X.size,1))"
      ],
      "metadata": {
        "id": "EQuUTTzqy3-K"
      },
      "execution_count": null,
      "outputs": []
    },
    {
      "cell_type": "code",
      "source": [
        "X"
      ],
      "metadata": {
        "colab": {
          "base_uri": "https://localhost:8080/"
        },
        "id": "gYoJ_DcN1M4-",
        "outputId": "ab9afcde-b936-459c-ff3d-7de7038162c6"
      },
      "execution_count": null,
      "outputs": [
        {
          "output_type": "execute_result",
          "data": {
            "text/plain": [
              "array([[1979],\n",
              "       [1980],\n",
              "       [1981],\n",
              "       [1982],\n",
              "       [1983],\n",
              "       [1984],\n",
              "       [1985],\n",
              "       [1986],\n",
              "       [1987],\n",
              "       [1988],\n",
              "       [1989],\n",
              "       [1990],\n",
              "       [1991],\n",
              "       [1992],\n",
              "       [1993],\n",
              "       [1994],\n",
              "       [1995],\n",
              "       [1996],\n",
              "       [1997],\n",
              "       [1998],\n",
              "       [1999],\n",
              "       [2000],\n",
              "       [2001],\n",
              "       [2002],\n",
              "       [2003],\n",
              "       [2004],\n",
              "       [2005],\n",
              "       [2006],\n",
              "       [2007],\n",
              "       [2008],\n",
              "       [2009],\n",
              "       [2010],\n",
              "       [2011],\n",
              "       [2012],\n",
              "       [2013],\n",
              "       [2014],\n",
              "       [2015],\n",
              "       [2016],\n",
              "       [2017],\n",
              "       [2018],\n",
              "       [2019],\n",
              "       [2020],\n",
              "       [2021],\n",
              "       [2022]])"
            ]
          },
          "metadata": {},
          "execution_count": 216
        }
      ]
    },
    {
      "cell_type": "code",
      "source": [
        "# appending 1's in first column which serves as bias or input to 'y intercept' in our regression model\n",
        "# X_des_mat is our design matrix\n",
        "X_des_mat = np.concatenate([np.ones_like(X, dtype='int64'), X])"
      ],
      "metadata": {
        "id": "iuylCXLJrl0J"
      },
      "execution_count": null,
      "outputs": []
    },
    {
      "cell_type": "code",
      "source": [
        "X_des_mat = np.reshape(X_des_mat, (2,-1)).T"
      ],
      "metadata": {
        "id": "7kMSU2uO2P7K"
      },
      "execution_count": null,
      "outputs": []
    },
    {
      "cell_type": "code",
      "source": [
        "X_des_mat"
      ],
      "metadata": {
        "colab": {
          "base_uri": "https://localhost:8080/"
        },
        "id": "bg4d6Vj02dFE",
        "outputId": "5e994fcd-8da3-487e-e47a-7392bbd5a198"
      },
      "execution_count": null,
      "outputs": [
        {
          "output_type": "execute_result",
          "data": {
            "text/plain": [
              "array([[   1, 1979],\n",
              "       [   1, 1980],\n",
              "       [   1, 1981],\n",
              "       [   1, 1982],\n",
              "       [   1, 1983],\n",
              "       [   1, 1984],\n",
              "       [   1, 1985],\n",
              "       [   1, 1986],\n",
              "       [   1, 1987],\n",
              "       [   1, 1988],\n",
              "       [   1, 1989],\n",
              "       [   1, 1990],\n",
              "       [   1, 1991],\n",
              "       [   1, 1992],\n",
              "       [   1, 1993],\n",
              "       [   1, 1994],\n",
              "       [   1, 1995],\n",
              "       [   1, 1996],\n",
              "       [   1, 1997],\n",
              "       [   1, 1998],\n",
              "       [   1, 1999],\n",
              "       [   1, 2000],\n",
              "       [   1, 2001],\n",
              "       [   1, 2002],\n",
              "       [   1, 2003],\n",
              "       [   1, 2004],\n",
              "       [   1, 2005],\n",
              "       [   1, 2006],\n",
              "       [   1, 2007],\n",
              "       [   1, 2008],\n",
              "       [   1, 2009],\n",
              "       [   1, 2010],\n",
              "       [   1, 2011],\n",
              "       [   1, 2012],\n",
              "       [   1, 2013],\n",
              "       [   1, 2014],\n",
              "       [   1, 2015],\n",
              "       [   1, 2016],\n",
              "       [   1, 2017],\n",
              "       [   1, 2018],\n",
              "       [   1, 2019],\n",
              "       [   1, 2020],\n",
              "       [   1, 2021],\n",
              "       [   1, 2022]])"
            ]
          },
          "metadata": {},
          "execution_count": 219
        }
      ]
    },
    {
      "cell_type": "markdown",
      "source": [
        "We'll calculate weights for our model using following formula:\n",
        "\n",
        "$ w = ( X^T X )^{-1} X^T y $ \n",
        "\n",
        "**note:** this method requires X to have full column rank i.e., columns of matrix X must be linearly independent"
      ],
      "metadata": {
        "id": "lPQ13aRt8AjX"
      }
    },
    {
      "cell_type": "code",
      "source": [
        "nrows, ncols = X_des_mat.shape"
      ],
      "metadata": {
        "id": "lKYgpRf44LHe"
      },
      "execution_count": null,
      "outputs": []
    },
    {
      "cell_type": "code",
      "source": [
        "X_des_mat_rank = np.linalg.matrix_rank(X_des_mat)"
      ],
      "metadata": {
        "id": "tW6kr74c6_b0"
      },
      "execution_count": null,
      "outputs": []
    },
    {
      "cell_type": "code",
      "source": [
        "# check if design matrix has full column rank\n",
        "if nrows >= ncols == X_des_mat_rank:\n",
        "  weights = np.matmul(np.matmul(np.linalg.inv(np.matmul(X_des_mat.transpose(),X_des_mat)),X_des_mat.transpose()),y)\n",
        "  weights = np.reshape(weights, (-1,1))\n",
        "  print(weights)"
      ],
      "metadata": {
        "colab": {
          "base_uri": "https://localhost:8080/"
        },
        "id": "_tNTiJIUBveT",
        "outputId": "1a6c56a5-f067-4429-f6d7-bc9da80f42e4"
      },
      "execution_count": null,
      "outputs": [
        {
          "output_type": "stream",
          "name": "stdout",
          "text": [
            "[[ 9.78126103e+01]\n",
            " [-4.17921071e-02]]\n"
          ]
        }
      ]
    },
    {
      "cell_type": "code",
      "source": [
        "X_new = np.array([2023,2025,2026, 2027,2150])"
      ],
      "metadata": {
        "id": "beeVGaL775O9"
      },
      "execution_count": null,
      "outputs": []
    },
    {
      "cell_type": "code",
      "source": [
        "X_new.shape"
      ],
      "metadata": {
        "colab": {
          "base_uri": "https://localhost:8080/"
        },
        "id": "bZ5Q1UVX8Y6n",
        "outputId": "3ab75506-460b-4d0b-c14c-4434484a4eb9"
      },
      "execution_count": null,
      "outputs": [
        {
          "output_type": "execute_result",
          "data": {
            "text/plain": [
              "(5,)"
            ]
          },
          "metadata": {},
          "execution_count": 236
        }
      ]
    },
    {
      "cell_type": "code",
      "source": [
        "X_new = np.reshape(X_new, (-1,1))"
      ],
      "metadata": {
        "id": "BJrvfKeO-Wwu"
      },
      "execution_count": null,
      "outputs": []
    },
    {
      "cell_type": "code",
      "source": [
        "X_new"
      ],
      "metadata": {
        "colab": {
          "base_uri": "https://localhost:8080/"
        },
        "id": "frG1rRoc_YZn",
        "outputId": "23289414-38c1-4795-d4cd-dd6338b08a55"
      },
      "execution_count": null,
      "outputs": [
        {
          "output_type": "execute_result",
          "data": {
            "text/plain": [
              "array([[2023],\n",
              "       [2025],\n",
              "       [2026],\n",
              "       [2027],\n",
              "       [2150]])"
            ]
          },
          "metadata": {},
          "execution_count": 238
        }
      ]
    },
    {
      "cell_type": "code",
      "source": [
        "X_new_des_mat = np.concatenate([np.ones_like(X_new, dtype='int64'), X_new])"
      ],
      "metadata": {
        "id": "pglR9XqS81mx"
      },
      "execution_count": null,
      "outputs": []
    },
    {
      "cell_type": "code",
      "source": [
        "X_new_des_mat"
      ],
      "metadata": {
        "colab": {
          "base_uri": "https://localhost:8080/"
        },
        "id": "mPTODkOq_EyR",
        "outputId": "d3e52b37-1c3d-49e7-96aa-a678c09d6306"
      },
      "execution_count": null,
      "outputs": [
        {
          "output_type": "execute_result",
          "data": {
            "text/plain": [
              "array([[   1],\n",
              "       [   1],\n",
              "       [   1],\n",
              "       [   1],\n",
              "       [   1],\n",
              "       [2023],\n",
              "       [2025],\n",
              "       [2026],\n",
              "       [2027],\n",
              "       [2150]])"
            ]
          },
          "metadata": {},
          "execution_count": 240
        }
      ]
    },
    {
      "cell_type": "code",
      "source": [
        "X_new_des_mat = np.reshape(X_new_des_mat, (2,-1)).transpose()"
      ],
      "metadata": {
        "id": "AxEhFrVi_v06"
      },
      "execution_count": null,
      "outputs": []
    },
    {
      "cell_type": "code",
      "source": [
        "X_new_des_mat"
      ],
      "metadata": {
        "colab": {
          "base_uri": "https://localhost:8080/"
        },
        "id": "QwvaoayhBHBL",
        "outputId": "fd43ea14-7247-4bca-aa45-42d97204a58e"
      },
      "execution_count": null,
      "outputs": [
        {
          "output_type": "execute_result",
          "data": {
            "text/plain": [
              "array([[   1, 2023],\n",
              "       [   1, 2025],\n",
              "       [   1, 2026],\n",
              "       [   1, 2027],\n",
              "       [   1, 2150]])"
            ]
          },
          "metadata": {},
          "execution_count": 242
        }
      ]
    },
    {
      "cell_type": "code",
      "source": [
        "predictions = np.matmul(X_new_des_mat, weights)"
      ],
      "metadata": {
        "id": "-pitRpgb7Ql1"
      },
      "execution_count": null,
      "outputs": []
    },
    {
      "cell_type": "code",
      "source": [
        "print(pd.DataFrame(data=predictions, columns=['extent predictions']))"
      ],
      "metadata": {
        "colab": {
          "base_uri": "https://localhost:8080/"
        },
        "id": "4SLFscaIAQA7",
        "outputId": "b532deae-0eb0-4b46-9cba-59053611626a"
      },
      "execution_count": null,
      "outputs": [
        {
          "output_type": "stream",
          "name": "stdout",
          "text": [
            "   extent predictions\n",
            "0           13.267178\n",
            "1           13.183593\n",
            "2           13.141801\n",
            "3           13.100009\n",
            "4            7.959580\n"
          ]
        }
      ]
    },
    {
      "cell_type": "code",
      "source": [
        "class LinearRegression:\n",
        "\n",
        "  #def __init__(self, X, y):\n",
        "  #  self.X = X\n",
        "  #  self.y = y\n",
        "\n",
        "\n",
        "  # is.fullrank() will check if our design matrix is\n",
        "  def isfullrank(X):\n",
        "    pass\n",
        "  # .fit() will add extra column of 1's to our design matrix X\n",
        "  # then it will learn parameters either by using linear algebra \n",
        "  # or using gradient descent\n",
        "  def fit(self, X, y):\n",
        "    X = np.concatenate(X, np.ones_like(X), axis=1)\n",
        "    nrows, ncols = X.shape\n",
        "    print(ncols)\n",
        "\n",
        "  def predict():\n",
        "    pass\n",
        "\n",
        "  def evaluate():\n",
        "    pass"
      ],
      "metadata": {
        "id": "QoHLk422MnUb"
      },
      "execution_count": null,
      "outputs": []
    }
  ]
}